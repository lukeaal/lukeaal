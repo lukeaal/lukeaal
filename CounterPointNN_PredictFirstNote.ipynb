{
  "nbformat": 4,
  "nbformat_minor": 0,
  "metadata": {
    "colab": {
      "name": "CounterPointNN_PredictFirstNote",
      "provenance": [],
      "collapsed_sections": [],
      "include_colab_link": true
    },
    "kernelspec": {
      "name": "python3",
      "display_name": "Python 3"
    },
    "language_info": {
      "name": "python"
    }
  },
  "cells": [
    {
      "cell_type": "markdown",
      "metadata": {
        "id": "view-in-github",
        "colab_type": "text"
      },
      "source": [
        "<a href=\"https://colab.research.google.com/github/lukeaal/lukeaal/blob/main/CounterPointNN_PredictFirstNote.ipynb\" target=\"_parent\"><img src=\"https://colab.research.google.com/assets/colab-badge.svg\" alt=\"Open In Colab\"/></a>"
      ]
    },
    {
      "cell_type": "markdown",
      "metadata": {
        "id": "kOs-bHyNyLAq"
      },
      "source": [
        "This network takes 8 bass notes as input and learns to predict the first note of the melody line."
      ]
    },
    {
      "cell_type": "markdown",
      "metadata": {
        "id": "wVBCj4mAg0cr"
      },
      "source": [
        "Imports"
      ]
    },
    {
      "cell_type": "code",
      "metadata": {
        "id": "ZuVcur3ggsCq"
      },
      "source": [
        "import numpy as np\n",
        "\n",
        "from tensorflow.keras.preprocessing.text import one_hot\n",
        "from tensorflow.keras.models import Sequential\n",
        "from tensorflow.keras.layers import Flatten, Embedding, Dense\n",
        "from tensorflow.keras.utils import to_categorical\n",
        "from tensorflow.keras.callbacks import EarlyStopping"
      ],
      "execution_count": null,
      "outputs": []
    },
    {
      "cell_type": "markdown",
      "metadata": {
        "id": "XlqHajYrHoiU"
      },
      "source": [
        "Mount Google Drive"
      ]
    },
    {
      "cell_type": "code",
      "metadata": {
        "colab": {
          "base_uri": "https://localhost:8080/"
        },
        "id": "5EXMBfaJHq1d",
        "outputId": "eedd10f6-7ef3-4ffc-c3c7-8f4aadb83133"
      },
      "source": [
        "from google.colab import drive\n",
        "drive.mount('/content/drive', force_remount=True)"
      ],
      "execution_count": null,
      "outputs": [
        {
          "output_type": "stream",
          "name": "stdout",
          "text": [
            "Mounted at /content/drive\n"
          ]
        }
      ]
    },
    {
      "cell_type": "markdown",
      "metadata": {
        "id": "swPOtbTmIa7p"
      },
      "source": [
        "Import Data"
      ]
    },
    {
      "cell_type": "code",
      "metadata": {
        "colab": {
          "base_uri": "https://localhost:8080/"
        },
        "id": "l_-FbG_iNJrF",
        "outputId": "b1b8f40f-5f20-4a69-c645-f3044a16b7b3"
      },
      "source": [
        "filepath = '/content/drive/MyDrive/UROC/Data sets/c_maj_firstnote.csv'\n",
        "file = open(filepath)\n",
        "\n",
        "import csv\n",
        "csvreader = csv.reader(file)\n",
        "next(csvreader)\n",
        "\n",
        "input = []\n",
        "output = []\n",
        "\n",
        "for row in csvreader:\n",
        "  input.append('')\n",
        "  output.append('')\n",
        "  for i in range(len(row) - 1):\n",
        "    input[-1] += (str(row[i]) + \" \")  \n",
        "  output[-1] += str(row[i+1])\n",
        "\n",
        "print('input:', input)\n",
        "print('output:', output)"
      ],
      "execution_count": null,
      "outputs": [
        {
          "output_type": "stream",
          "name": "stdout",
          "text": [
            "input: ['C5 A4 E5 C5 D5 G4 B4 C5 ', 'C5 G4 A4 B4 D5 G4 B4 C5 ', 'C5 D5 F5 D5 A4 C5 B4 C5 ', 'C5 A4 E5 C5 D5 G4 B4 C5 ', 'C5 A4 E5 C5 D5 G4 B4 C5 ', 'G5 F5 D5 A5 G5 A5 D6 C6 ', 'C5 F5 E5 D5 C5 B4 D5 C5 ', 'C5 B4 C5 G5 B4 D5 B4 C5 ', 'G5 D5 E5 C6 B5 A5 D5 C5 ', 'G5 F5 E5 G5 B5 G5 B5 C6 ', 'C5 A4 E5 C5 D5 G4 B4 C5 ', 'C5 G4 C4 E4 G4 E4 B4 C5 ', 'C5 A4 E5 C5 D5 G4 B4 C5 ', 'C6 E6 D6 E6 G6 F6 D6 C6 ', 'G5 B5 A5 C6 F5 G5 B4 C5 ', 'C5 A4 E5 C5 D5 G4 B4 C5 ', 'C5 A4 E5 C5 D5 G4 B4 C5 ', 'C5 A4 E5 C5 D5 G4 B4 C5 ', 'C5 A4 E5 C5 D5 G4 B4 C5 ', 'C5 A4 E5 C5 D5 G4 B4 C5 ', 'C5 A4 E5 C5 D5 G4 B4 C5 ', 'C5 A4 E5 C5 D5 G4 B4 C5 ', 'C5 A4 E5 C5 D5 G4 B4 C5 ', 'C5 F5 E5 C5 A4 C5 B4 C5 ', 'G6 F6 A5 C6 B5 D6 B5 C6 ', 'C6 A5 C6 F5 G5 A5 B5 C6 ', 'G4 F4 A4 E4 G4 F4 D4 C4 ', 'C5 A4 E5 C5 D5 G4 B4 C5 ', 'C5 A4 E5 C5 D5 G4 B4 C5 ', 'G4 B4 G4 B4 A4 E5 B4 C5 ', 'G4 F4 E4 B4 G4 C5 B4 C5 ', 'G5 D5 E5 D5 E5 A5 D5 C5 ', 'C5 A4 E5 C5 D5 G4 B4 C5 ', 'C5 A4 E5 C5 D5 G4 B4 C5 ', 'C6 D6 C6 B5 D6 C6 D6 C6 ', 'C5 A4 E5 C5 D5 G4 B4 C5 ', 'G5 F5 G5 E5 F5 G5 B5 C6 ', 'C5 B4 A4 C5 B4 D5 B4 C5 ', 'G6 D6 E6 D6 B5 C6 D6 C6 ', 'C5 A4 E5 C5 D5 G4 B4 C5 ', 'C5 A4 E5 C5 D5 G4 B4 C5 ', 'G4 C5 B4 C5 G5 E5 B4 C5 ', 'G6 F6 A5 B5 E6 G6 B5 C6 ', 'C5 A4 E5 C5 D5 G4 B4 C5 ', 'C5 A4 E5 C5 D5 G4 B4 C5 ', 'C5 A4 E5 C5 D5 G4 B4 C5 ', 'C5 A4 E5 C5 D5 G4 B4 C5 ', 'C6 D6 C6 G6 E6 C6 D6 C6 ', 'C4 D4 F4 D4 E4 C4 D4 C4 ', 'C5 A4 E5 C5 D5 G4 B4 C5 ', 'C5 A4 E5 C5 D5 G4 B4 C5 ', 'C4 B3 A3 D4 C4 E4 B3 C4 ', 'C5 A4 F4 A4 D5 C5 B4 C5 ', 'G5 B5 A5 G5 A5 E5 B5 C6 ', 'C5 B4 C5 B4 A4 F5 D5 C5 ', 'C5 A4 E5 C5 D5 G4 B4 C5 ', 'C4 D4 C4 D4 C4 D4 B3 C4 ', 'C5 A4 E5 C5 D5 G4 B4 C5 ', 'C6 B5 A5 B5 E6 C6 D6 C6 ', 'C6 B5 D6 C6 F5 G5 B5 C6 ', 'G5 D6 B5 G5 B5 E6 D6 C6 ', 'C5 F5 D5 E5 G5 F5 D5 C5 ', 'G6 C6 E6 A5 E6 C6 D6 C6 ', 'C5 A4 E5 C5 D5 G4 B4 C5 ', 'C5 A4 E5 C5 D5 G4 B4 C5 ', 'C5 A4 E5 C5 D5 G4 B4 C5 ', 'C5 A4 E5 C5 D5 G4 B4 C5 ', 'C5 A4 E5 C5 D5 G4 B4 C5 ', 'C5 A4 E5 C5 D5 G4 B4 C5 ', 'C5 A4 E5 C5 D5 G4 B4 C5 ', 'C5 A4 E5 C5 D5 G4 B4 C5 ', 'G6 F6 A5 C6 B5 D6 B5 C6 ', 'C5 A4 E5 C5 D5 G4 B4 C5 ', 'C5 A4 E5 C5 D5 G4 B4 C5 ', 'G6 C6 E6 D6 C6 A5 D6 C6 ', 'C5 A4 E5 C5 D5 G4 B4 C5 ', 'C5 A4 E5 C5 D5 G4 B4 C5 ', 'C6 B5 C6 B5 A5 D6 B5 C6 ', 'C5 A4 E5 C5 D5 G4 B4 C5 ', 'C5 A4 E5 C5 D5 G4 B4 C5 ', 'G5 F5 G5 E5 B5 G5 B5 C6 ', 'C5 D5 G5 F5 D5 F5 D5 C5 ', 'C5 A4 E5 C5 D5 G4 B4 C5 ', 'C6 B5 G5 A5 F6 E6 B5 C6 ', 'C5 A4 E5 C5 D5 G4 B4 C5 ', 'C5 A4 E5 C5 D5 G4 B4 C5 ', 'C5 A4 E5 C5 D5 G4 B4 C5 ', 'C4 F4 E4 A3 F4 E4 D4 C4 ', 'C5 A4 E5 C5 D5 G4 B4 C5 ', 'G5 C6 B5 E5 A5 G5 B5 C6 ', 'C5 A4 E5 C5 D5 G4 B4 C5 ', 'C5 A4 E5 C5 D5 G4 B4 C5 ', 'G4 D4 E4 C5 B4 A4 D4 C4 ', 'C5 A4 E5 C5 D5 G4 B4 C5 ', 'G6 C6 D6 C6 G5 B5 D6 C6 ', 'C5 D5 E5 D5 B4 C5 D5 C5 ', 'C5 A4 E5 C5 D5 G4 B4 C5 ', 'C4 B3 D4 C4 F3 G3 B3 C4 ', 'C5 A4 E5 C5 D5 G4 B4 C5 ', 'C5 F4 A4 G4 F4 E4 B4 C5 ', 'C5 A4 E5 C5 D5 G4 B4 C5 ', 'C5 D5 B4 C5 G5 F5 D5 C5 ', 'C5 A4 E5 C5 D5 G4 B4 C5 ', 'C4 E4 A4 G4 F4 G4 B3 C4 ', 'C5 A4 E5 C5 D5 G4 B4 C5 ', 'C4 F4 D4 E4 A3 F4 D4 C4 ', 'C5 B4 A4 C5 E5 B4 D5 C5 ', 'C5 A4 E5 C5 D5 G4 B4 C5 ', 'G5 C6 A5 C6 B5 E5 B5 C6 ', 'C5 A4 E5 C5 D5 G4 B4 C5 ', 'C5 A4 E5 C5 D5 G4 B4 C5 ', 'C5 D5 A4 B4 D5 B4 D5 C5 ', 'C5 A4 E5 C5 D5 G4 B4 C5 ', 'C4 G4 F4 A4 E4 F4 D4 C4 ', 'C5 A4 E5 C5 D5 G4 B4 C5 ', 'C6 D6 A5 F6 E6 G6 B5 C6 ', 'G5 B5 A5 G5 A5 B5 D6 C6 ', 'G4 B4 D5 C5 E4 F4 D4 C4 ', 'G6 C6 D6 C6 D6 G6 B5 C6 ', 'C5 A4 E5 C5 D5 G4 B4 C5 ', 'C5 A4 E5 C5 D5 G4 B4 C5 ', 'C5 A4 E5 C5 D5 G4 B4 C5 ', 'C5 A4 E5 C5 D5 G4 B4 C5 ', 'C5 A4 E5 C5 D5 G4 B4 C5 ', 'C6 B5 C6 B5 C6 E6 B5 C6 ', 'C4 G4 E4 G4 F4 G4 D5 C5 ', 'C5 A4 E5 C5 D5 G4 B4 C5 ', 'C5 A4 E5 C5 D5 G4 B4 C5 ', 'C5 A4 E5 C5 D5 G4 B4 C5 ', 'G5 F5 D5 E5 C6 B5 D6 C6 ', 'G6 D6 F6 D6 A5 C6 B5 C6 ', 'C6 B5 A5 B5 C6 E6 B5 C6 ', 'C5 A4 E5 C5 D5 G4 B4 C5 ', 'C5 A4 E5 C5 D5 G4 B4 C5 ', 'C5 D5 B4 G5 F5 G5 D5 C5 ', 'C5 A4 E5 C5 D5 G4 B4 C5 ', 'G4 F4 E4 G4 F4 G4 B4 C5 ', 'C5 A4 E5 C5 D5 G4 B4 C5 ', 'C6 F5 G5 E5 B5 G5 B5 C6 ', 'G4 B4 G5 F5 A4 C5 B4 C5 ', 'C5 G4 C5 B4 G4 E4 B4 C5 ', 'C5 A4 E5 C5 D5 G4 B4 C5 ', 'C5 A4 E5 C5 D5 G4 B4 C5 ', 'C5 A4 E5 C5 D5 G4 B4 C5 ', 'C5 A4 E5 C5 D5 G4 B4 C5 ', 'C5 A4 E5 C5 D5 G4 B4 C5 ', 'C5 A4 E5 C5 D5 G4 B4 C5 ', 'C5 A4 E5 C5 D5 G4 B4 C5 ', 'C5 A4 E5 C5 D5 G4 B4 C5 ', 'C5 A4 E5 C5 D5 G4 B4 C5 ', 'C5 D5 E5 D5 G4 A4 D5 C5 ', 'C5 A4 E5 C5 D5 G4 B4 C5 ', 'C5 D5 G4 B4 D5 A4 D5 C5 ', 'C6 D6 C6 D6 G6 C6 D6 C6 ', 'C5 A4 E5 C5 D5 G4 B4 C5 ', 'C5 D5 F5 E5 B4 C5 D5 C5 ', 'C5 A4 E5 C5 D5 G4 B4 C5 ', 'C5 D5 E5 D5 C5 G4 B4 C5 ', 'C5 A4 E5 C5 D5 G4 B4 C5 ', 'C5 A4 E5 C5 D5 G4 B4 C5 ', 'C4 E4 C4 G4 F4 E4 D4 C4 ', 'C6 A5 D6 B5 C6 G5 B5 C6 ', 'C5 A4 C5 A4 C5 E5 B4 C5 ', 'C5 E5 C5 G5 F5 E5 D5 C5 ', 'C5 A4 E5 C5 D5 G4 B4 C5 ', 'C5 A4 E5 C5 D5 G4 B4 C5 ', 'C6 D6 F6 D6 A5 E6 D6 C6 ', 'C5 A4 E5 C5 D5 G4 B4 C5 ', 'C5 A4 E5 C5 D5 G4 B4 C5 ', 'G5 D5 B4 E5 B5 G5 B5 C6 ', 'C5 A4 E5 C5 D5 G4 B4 C5 ', 'C5 A4 E5 C5 D5 G4 B4 C5 ', 'G5 F5 D5 F5 A5 G5 B5 C6 ', 'C4 B3 A3 C4 E4 C4 D4 C4 ', 'C5 A4 E5 C5 D5 G4 B4 C5 ', 'C5 A4 E5 C5 D5 G4 B4 C5 ', 'C6 G5 B5 A5 F5 G5 B5 C6 ', 'C5 G4 B4 G4 A4 E5 B4 C5 ', 'G5 F5 E5 G5 F5 G5 D6 C6 ', 'C5 E5 C5 D5 A4 B4 D5 C5 ', 'C5 A4 E5 C5 D5 G4 B4 C5 ', 'C5 A4 E5 C5 D5 G4 B4 C5 ', 'C4 F4 D4 F4 D4 A4 D4 C4 ', 'C5 A4 E5 C5 D5 G4 B4 C5 ', 'C4 D4 E4 D4 B3 D4 B3 C4 ', 'C5 A4 C5 B4 C5 G4 B4 C5 ', 'G5 C6 A5 C6 E6 C6 D6 C6 ', 'C5 D5 F5 A4 B4 G4 B4 C5 ', 'C5 A4 E5 C5 D5 G4 B4 C5 ', 'C5 B4 G5 F5 E5 F5 D5 C5 ', 'C5 B4 G4 B4 E5 C5 D5 C5 ', 'C5 A4 E5 C5 D5 G4 B4 C5 ', 'C5 A4 E5 C5 D5 G4 B4 C5 ', 'C5 A4 E5 C5 D5 G4 B4 C5 ', 'C5 B4 A4 C5 B4 D5 B4 C5 ', 'C5 A4 E5 C5 D5 G4 B4 C5 ', 'C5 D5 A4 B4 G5 F5 D5 C5 ', 'C4 G4 F4 A4 E4 F4 D4 C4 ', 'C5 G5 F5 G5 F5 G5 B4 C5 ', 'C5 A4 E5 C5 D5 G4 B4 C5 ', 'C5 A4 E5 C5 D5 G4 B4 C5 ', 'C5 A4 E5 C5 D5 G4 B4 C5 ', 'C5 G5 F5 D5 G5 D6 B5 C6 ', 'C5 A4 E5 C5 D5 G4 B4 C5 ', 'G4 F4 G4 E4 F4 G4 B4 C5 ', 'C5 A4 E5 C5 D5 G4 B4 C5 ', 'C6 B5 C6 A5 E6 C6 D6 C6 ', 'C5 D5 C5 D5 G5 F5 D5 C5 ', 'G5 C6 B5 A5 B5 G6 B5 C6 ', 'C4 A3 B3 G4 D4 E4 B3 C4 ', 'C5 A4 E5 C5 D5 G4 B4 C5 ', 'C5 A4 E5 C5 D5 G4 B4 C5 ', 'C5 E5 D5 E5 G5 F5 D5 C5 ', 'C5 A4 E5 C5 D5 G4 B4 C5 ', 'G6 D6 B5 C6 G6 F6 D6 C6 ', 'C5 D5 E5 A4 E4 G4 B3 C4 ', 'C5 A4 E5 C5 D5 G4 B4 C5 ', 'C5 D5 B4 G5 F5 E5 D5 C5 ', 'G5 D5 E5 G5 F5 G5 D6 C6 ', 'C5 A4 E5 C5 D5 G4 B4 C5 ', 'C5 A4 E5 C5 D5 G4 B4 C5 ', 'C5 A4 E5 C5 D5 G4 B4 C5 ', 'C5 A4 E5 C5 D5 G4 B4 C5 ', 'C6 F6 D6 E6 G6 F6 D6 C6 ', 'C6 E6 B5 G6 F6 E6 D6 C6 ', 'C5 A4 E5 C5 D5 G4 B4 C5 ', 'C5 A4 E5 C5 D5 G4 B4 C5 ', 'C5 A4 E5 C5 D5 G4 B4 C5 ', 'C5 A4 E5 C5 D5 G4 B4 C5 ', 'C5 G5 E5 C6 E5 F5 D5 C5 ', 'G5 F5 E5 G5 B5 G5 B5 C6 ', 'G4 B4 G4 B4 A4 E5 B4 C5 ', 'C6 B5 A5 B5 E6 C6 D6 C6 ', 'C5 A4 E5 C5 D5 G4 B4 C5 ', 'C5 A4 E5 C5 D5 G4 B4 C5 ', 'C5 B4 G4 A4 C5 B4 D5 C5 ', 'G5 D5 E5 F5 E5 G5 B4 C5 ', 'C5 E5 B4 G5 F5 C6 B5 C6 ', 'C5 A4 E5 C5 D5 G4 B4 C5 ', 'G5 C6 A5 C6 F5 G5 B5 C6 ', 'C5 F4 G4 B4 A4 E5 D5 C5 ', 'C5 A4 E5 C5 D5 G4 B4 C5 ', 'C5 A4 E5 C5 D5 G4 B4 C5 ', 'C5 A4 E5 C5 D5 G4 B4 C5 ', 'G5 F5 G5 E5 B5 G5 B5 C6 ', 'C5 A4 E5 C5 D5 G4 B4 C5 ', 'C5 A4 E5 C5 D5 G4 B4 C5 ', 'C5 A4 E5 C5 D5 G4 B4 C5 ', 'C5 A4 E5 C5 D5 G4 B4 C5 ', 'C5 E5 B4 C5 G5 F5 D5 C5 ', 'G6 C6 D6 C6 G5 A5 D6 C6 ', 'C6 B5 A5 C6 B5 D6 B5 C6 ', 'C5 A4 E5 C5 D5 G4 B4 C5 ', 'C5 A4 E5 C5 D5 G4 B4 C5 ', 'G6 C6 E6 D6 B5 C6 D6 C6 ', 'C5 A4 E5 C5 D5 G4 B4 C5 ', 'C5 A4 E5 C5 D5 G4 B4 C5 ', 'C5 A4 E5 C5 D5 G4 B4 C5 ', 'C4 F4 A4 G4 F4 E4 D4 C4 ', 'C5 A4 E5 C5 D5 G4 B4 C5 ', 'C5 A4 E5 C5 D5 G4 B4 C5 ', 'C5 A4 F4 G4 B4 E5 B4 C5 ', 'G5 D6 C6 B5 A5 E6 D6 C6 ', 'C5 A4 E5 C5 D5 G4 B4 C5 ', 'C5 A4 E5 C5 D5 G4 B4 C5 ', 'C5 A4 E5 C5 D5 G4 B4 C5 ', 'C5 A4 E5 C5 D5 G4 B4 C5 ', 'C6 G5 B5 G5 D6 G5 B5 C6 ', 'C5 A4 E5 C5 D5 G4 B4 C5 ', 'C5 A4 E5 C5 D5 G4 B4 C5 ', 'C5 A4 E5 C5 D5 G4 B4 C5 ', 'C5 B4 D5 C5 B4 C5 B4 C5 ', 'C5 A4 E5 C5 D5 G4 B4 C5 ', 'C5 A4 B4 A4 B4 E5 B4 C5 ', 'C5 A4 E5 C5 D5 G4 B4 C5 ', 'C5 A4 E5 C5 D5 G4 B4 C5 ', 'C5 A4 E5 C5 D5 G4 B4 C5 ', 'C5 A4 E5 C5 D5 G4 B4 C5 ', 'C5 A4 E5 C5 D5 G4 B4 C5 ', 'C4 G4 D4 E4 C4 E4 B3 C4 ', 'C6 A5 D6 C6 F5 G5 B5 C6 ', 'C5 D5 E5 D5 C5 A4 D5 C5 ', 'C6 B5 D6 B5 C6 G5 B5 C6 ', 'C5 A4 E5 C5 D5 G4 B4 C5 ', 'C5 A4 E5 C5 D5 G4 B4 C5 ', 'C5 A4 E5 C5 D5 G4 B4 C5 ', 'C5 A4 E5 C5 D5 G4 B4 C5 ', 'C5 A4 E5 C5 D5 G4 B4 C5 ', 'C5 A4 E5 C5 D5 G4 B4 C5 ', 'C6 A5 E5 B5 G5 C6 B5 C6 ', 'C5 A4 E5 C5 D5 G4 B4 C5 ', 'C5 A4 E5 C5 D5 G4 B4 C5 ', 'C5 A4 E5 C5 D5 G4 B4 C5 ', 'C5 F4 G4 F4 D4 A4 D5 C5 ', 'C5 A4 E5 C5 D5 G4 B4 C5 ', 'G4 B4 G4 A4 G4 A4 D5 C5 ', 'C5 E5 B4 G5 E5 C5 D5 C5 ', 'C6 B5 G5 B5 D6 B5 D6 C6 ', 'G4 B4 E5 D5 B4 C5 B4 C5 ', 'C5 A4 E5 C5 D5 G4 B4 C5 ', 'C5 A4 E5 C5 D5 G4 B4 C5 ', 'C5 G5 C5 D5 E5 A4 D5 C5 ', 'C5 A4 E5 C5 D5 G4 B4 C5 ', 'C5 B4 E5 D5 C5 A4 B4 C5 ', 'C5 A4 E5 C5 D5 G4 B4 C5 ', 'C5 A4 E5 C5 D5 G4 B4 C5 ', 'C5 A4 E5 C5 D5 G4 B4 C5 ', 'C5 A4 B4 E5 D5 C5 B4 C5 ', 'C5 A4 E5 C5 D5 G4 B4 C5 ', 'C5 A4 E5 C5 D5 G4 B4 C5 ', 'C6 D6 B5 C6 G6 F6 D6 C6 ', 'C5 A4 E5 C5 D5 G4 B4 C5 ', 'C5 A4 E5 C5 D5 G4 B4 C5 ', 'C5 A4 E5 C5 D5 G4 B4 C5 ', 'C5 A4 E5 C5 D5 G4 B4 C5 ', 'C5 A4 E5 C5 D5 G4 B4 C5 ', 'G5 C5 D5 C5 D5 E5 B4 C5 ', 'C6 F6 E6 G6 E6 C6 D6 C6 ', 'C5 A4 E5 C5 D5 C5 D5 C5 ', 'C5 A4 E5 C5 D5 G4 B4 C5 ', 'G4 C5 A4 C5 F4 G4 B4 C5 ', 'G5 C6 A5 C6 F5 G5 B5 C6 ', 'G6 F6 A5 C6 B5 D6 B5 C6 ', 'C5 A4 E5 C5 D5 G4 B4 C5 ', 'C5 A4 E5 C5 D5 G4 B4 C5 ', 'C6 E6 D6 E6 D6 F6 D6 C6 ', 'C5 F5 C6 B5 E5 F5 D5 C5 ', 'C5 B4 D5 C5 E4 F4 D4 C4 ', 'C5 A4 E5 C5 D5 G4 B4 C5 ', 'C5 A4 E5 C5 D5 G4 B4 C5 ', 'C5 A4 E5 C5 D5 G4 B4 C5 ', 'C5 A4 E5 C5 D5 G4 B4 C5 ', 'C5 A4 E5 C5 D5 G4 B4 C5 ', 'G4 D4 F4 A4 G4 F4 D4 C4 ', 'C5 D5 B4 G5 F5 G5 D5 C5 ', 'C5 A4 E5 C5 D5 G4 B4 C5 ', 'C5 A4 E5 C5 D5 G4 B4 C5 ', 'C5 F5 D5 E5 F5 G5 D5 C5 ', 'C5 A4 E5 C5 D5 G4 B4 C5 ', 'C5 A4 E5 C5 D5 G4 B4 C5 ', 'C5 A4 E5 C5 D5 G4 B4 C5 ', 'C5 D5 E5 C5 A4 D5 B4 C5 ', 'C5 E5 A5 G5 E5 G5 D5 C5 ', 'C5 A4 E5 C5 D5 G4 B4 C5 ', 'C4 A3 F3 A3 C4 G3 B3 C4 ', 'C5 A4 E5 C5 D5 G4 B4 C5 ', 'C5 A4 E5 C5 D5 G4 B4 C5 ', 'C5 A4 E5 C5 D5 G4 B4 C5 ', 'C5 B4 A4 B4 G5 E5 B4 C5 ', 'C5 E5 B4 C5 E5 C5 D5 C5 ', 'C5 A4 E5 C5 D5 G4 B4 C5 ', 'G5 F5 D5 E5 B5 A5 D6 C6 ', 'C5 A4 E5 C5 D5 G4 B4 C5 ', 'G4 C5 B4 G4 A4 E5 B4 C5 ', 'G5 C5 D5 A5 D5 G5 B4 C5 ', 'C5 A4 E5 C5 D5 G4 B4 C5 ', 'C5 B4 E5 D5 C5 A4 B4 C5 ', 'C5 A4 E5 C5 D5 G4 B4 C5 ', 'C4 D4 E4 D4 G3 B3 D4 C4 ', 'C5 A4 E5 C5 D5 G4 B4 C5 ', 'C5 A4 E5 C5 D5 G4 B4 C5 ', 'C5 A4 E5 C5 D5 G4 B4 C5 ', 'C5 D5 E5 B4 D5 C5 D5 C5 ', 'C5 A4 E5 C5 D5 G4 B4 C5 ', 'C5 A4 E5 C5 D5 G4 B4 C5 ', 'C4 B3 A3 B3 C4 E4 B3 C4 ', 'C4 F4 E4 F4 G4 F4 D4 C4 ', 'C5 A4 E5 C5 D5 G4 B4 C5 ', 'C4 D4 F4 D4 E4 C4 D4 C4 ', 'C6 B5 E5 G5 B5 G5 B5 C6 ', 'C5 A4 E5 C5 D5 G4 B4 C5 ', 'C5 A4 E5 C5 D5 G4 B4 C5 ', 'C5 A4 E5 C5 D5 G4 B4 C5 ', 'C5 G5 F5 D5 G5 D6 B5 C6 ', 'C6 F5 G5 D5 A5 F6 D6 C6 ', 'C4 B3 A3 D4 C4 B3 D4 C4 ', 'C5 G4 A4 G4 A4 G4 B3 C4 ', 'C5 F5 C6 B5 E5 F5 D5 C5 ', 'C5 A4 E5 C5 D5 G4 B4 C5 ', 'C5 E5 B4 C5 F5 E5 B5 C6 ', 'C5 A4 E5 C5 D5 G4 B4 C5 ', 'C5 A4 E5 C5 D5 G4 B4 C5 ', 'C5 A4 E5 C5 D5 G4 B4 C5 ', 'C5 A4 E5 C5 D5 G4 B4 C5 ', 'C5 A4 E5 C5 D5 G4 B4 C5 ', 'C5 F4 A4 C5 G4 B4 D5 C5 ', 'C5 D5 B4 C5 F5 E5 B5 C6 ', 'C5 E5 A5 G5 E5 F5 D5 C5 ', 'G6 D6 E6 D6 B5 C6 D6 C6 ', 'C5 B4 E5 C5 D5 C5 B4 C5 ', 'C6 G5 B5 A5 E5 C6 B5 C6 ', 'G4 B4 G4 B4 E5 A4 B4 C5 ', 'C5 A4 E5 C5 D5 G4 B4 C5 ', 'G6 D6 E6 F6 E6 G6 B5 C6 ', 'G4 B4 A4 B4 E4 C5 B4 C5 ', 'C5 A4 E5 C5 D5 G4 B4 C5 ', 'G5 B5 D6 C6 E5 F5 D5 C5 ', 'C6 D6 C6 D6 C6 A5 D6 C6 ', 'G5 F5 G5 F5 G5 E5 B5 C6 ', 'G4 D4 E4 A4 G4 F4 D4 C4 ', 'C5 D5 A5 G5 F5 G5 D5 C5 ', 'C5 A4 E5 C5 D5 G4 B4 C5 ', 'C5 E5 B4 C5 G5 F5 D5 C5 ', 'C5 A4 E5 C5 D5 G4 B4 C5 ', 'G5 B5 G5 A5 G5 E5 B5 C6 ', 'C5 A4 E5 C5 D5 G4 B4 C5 ', 'C5 A4 E5 C5 D5 G4 B4 C5 ', 'C5 A4 E5 C5 D5 G4 B4 C5 ', 'G5 D6 B5 G6 C6 E6 D6 C6 ', 'C5 A4 E5 C5 D5 G4 B4 C5 ', 'C5 A4 E5 C5 D5 G4 B4 C5 ', 'G4 D5 G4 B4 E5 C5 D5 C5 ', 'C4 B3 A3 F4 D4 E4 B4 C5 ', 'G5 D6 C6 B5 A5 F6 D6 C6 ', 'G5 F5 A5 F5 G5 E5 B4 C5 ', 'C5 A4 E5 C5 D5 G4 B4 C5 ', 'C5 A4 E5 C5 D5 G4 B4 C5 ', 'G5 C6 A5 C6 F5 G5 B5 C6 ', 'C5 A4 E5 C5 D5 G4 B4 C5 ', 'C5 A4 E5 C5 D5 G4 B4 C5 ', 'C5 A4 D5 C5 E4 F4 D4 C4 ', 'C6 F5 G5 F5 G5 A5 D6 C6 ', 'C5 A4 E5 C5 D5 G4 B4 C5 ', 'G5 C5 D5 E5 A4 E5 D5 C5 ', 'C4 D4 G4 F4 C4 F4 D4 C4 ', 'C5 A4 E5 C5 D5 G4 B4 C5 ', 'C5 A4 E5 C5 D5 G4 B4 C5 ', 'C5 A4 E5 C5 D5 G4 B4 C5 ', 'C5 D5 F5 D5 E5 D5 B4 C5 ', 'C5 F5 D5 E5 F5 G5 D5 C5 ', 'C5 D5 F5 D5 E5 D5 B4 C5 ', 'C5 A4 E5 C5 D5 G4 B4 C5 ', 'C5 D5 E5 D5 G4 A4 D5 C5 ', 'G6 D6 B5 G6 F6 G6 D6 C6 ', 'C5 E5 B4 C5 G5 F5 D5 C5 ', 'C5 A4 E5 C5 D5 G4 B4 C5 ', 'C5 A4 E5 C5 D5 G4 B4 C5 ', 'G4 B4 A4 B4 A4 E5 B4 C5 ', 'C5 A4 E5 C5 D5 G4 B4 C5 ', 'C5 B4 G4 B4 E5 C5 D5 C5 ', 'C5 A4 E5 C5 D5 G4 B4 C5 ', 'C5 A4 E5 C5 D5 G4 B4 C5 ', 'C5 A4 E5 C5 D5 G4 B4 C5 ', 'C4 B3 A3 B3 C4 E4 B3 C4 ', 'C5 A4 E5 C5 D5 G4 B4 C5 ', 'C5 A4 E5 C5 D5 G4 B4 C5 ', 'C5 A4 E5 C5 D5 G4 B4 C5 ', 'G5 D5 E5 G5 F5 A5 D5 C5 ', 'C5 A4 E5 C5 D5 G4 B4 C5 ', 'C5 F5 A5 G5 F5 G5 D5 C5 ', 'G4 F4 E4 B4 A4 G4 B4 C5 ', 'G5 D6 C6 G5 A5 E5 B5 C6 ', 'C5 A4 E5 C5 D5 G4 B4 C5 ', 'C5 A4 E5 C5 D5 G4 B4 C5 ', 'C5 A4 E5 C5 D5 G4 B4 C5 ', 'C5 A4 E5 C5 D5 G4 B4 C5 ', 'G4 B4 A4 G4 F4 G4 B4 C5 ', 'C5 F5 C5 E5 D5 E5 B4 C5 ', 'G4 D5 C5 B4 A4 E5 D5 C5 ', 'C5 A4 E5 C5 D5 G4 B4 C5 ', 'C5 A4 E5 C5 D5 G4 B4 C5 ', 'C5 A4 E5 C5 D5 G4 B4 C5 ', 'C5 A4 E5 C5 D5 G4 B4 C5 ', 'C5 A4 E5 C5 D5 G4 B4 C5 ', 'C6 B5 D6 C6 F5 G5 B5 C6 ', 'C6 B5 D6 B5 C6 G5 B5 C6 ', 'C5 A4 E5 C5 D5 G4 B4 C5 ', 'C5 A4 E5 C5 D5 G4 B4 C5 ', 'C5 A4 E5 C5 D5 G4 B4 C5 ', 'C5 A4 E5 C5 D5 G4 B4 C5 ', 'C5 A4 E5 C5 D5 G4 B4 C5 ', 'C5 A4 E5 C5 D5 G4 B4 C5 ', 'C6 D6 E6 C6 G5 A5 D6 C6 ', 'C5 A4 E5 C5 D5 G4 B4 C5 ', 'C5 B4 D5 C5 F4 G4 B4 C5 ', 'C5 A4 E5 C5 D5 G4 B4 C5 ', 'C5 A4 E5 C5 D5 G4 B4 C5 ', 'C5 A4 E5 C5 D5 G4 B4 C5 ', 'C5 A4 E5 C5 D5 G4 B4 C5 ', 'C5 B4 D5 B4 C5 E4 B4 C5 ', 'C5 A4 E5 C5 D5 G4 B4 C5 ', 'C5 G4 A4 G4 F4 G4 B4 C5 ', 'C5 A4 E5 C5 D5 G4 B4 C5 ', 'G6 F6 A5 C6 B5 C6 D6 C6 ', 'C5 A4 E5 C5 D5 G4 B4 C5 ', 'C5 A4 E5 C5 D5 G4 B4 C5 ', 'C5 B4 A4 E5 D5 G5 B4 C5 ', 'G5 B5 G5 B5 E6 A5 B5 C6 ', 'C6 B5 A5 B5 C6 E6 B5 C6 ', 'C5 B4 C5 E5 D5 G4 B4 C5 ', 'C5 A4 E5 C5 D5 G4 B4 C5 ', 'C5 A4 E5 C5 D5 G4 B4 C5 ', 'G4 B4 G4 B4 E5 A4 B4 C5 ', 'C5 A4 E5 C5 D5 G4 B4 C5 ', 'C5 E5 A4 C5 E5 D5 B4 C5 ', 'C5 A4 E5 C5 D5 G4 B4 C5 ', 'C5 B4 C5 F5 A4 E5 D5 C5 ', 'C5 A4 E5 C5 D5 G4 B4 C5 ', 'C4 A3 D4 C4 F3 G3 B3 C4 ', 'C5 A4 E5 C5 D5 G4 B4 C5 ', 'C5 D5 E5 A4 B4 G4 B4 C5 ', 'G4 C5 B4 A4 F4 G4 B4 C5 ', 'C6 D6 E6 B5 C6 A5 D6 C6 ', 'C5 A4 E5 C5 D5 G4 B4 C5 ', 'C5 F5 D5 F5 D5 A5 D5 C5 ', 'C5 A4 E5 C5 D5 G4 B4 C5 ', 'G5 F5 G5 F5 A5 G5 B4 C5 ', 'C5 A4 E5 C5 D5 G4 B4 C5 ', 'C5 A4 E5 C5 D5 G4 B4 C5 ', 'C4 B3 G3 B3 E4 A3 B3 C4 ', 'C6 D6 C6 D6 F6 E6 D6 C6 ', 'C5 A4 E5 C5 D5 G4 B4 C5 ', 'C5 A4 E5 C5 D5 G4 B4 C5 ', 'C5 A4 E5 C5 D5 G4 B4 C5 ', 'C5 A4 E5 C5 D5 G4 B4 C5 ', 'C6 F6 D6 E6 G6 F6 D6 C6 ', 'C5 B4 A4 B4 E5 C5 D5 C5 ', 'C5 A4 E5 C5 D5 G4 B4 C5 ', 'C5 A4 E5 C5 D5 G4 B4 C5 ', 'C5 A4 E5 C5 D5 G4 B4 C5 ', 'C5 A4 E5 C5 D5 G4 B4 C5 ', 'C5 G4 B4 A4 C5 E5 D5 C5 ', 'C5 A4 E5 C5 D5 G4 B4 C5 ', 'C5 A4 E5 C5 D5 G4 B4 C5 ', 'C5 A4 E5 C5 D5 G4 B4 C5 ', 'C5 A4 E5 C5 D5 G4 B4 C5 ', 'C5 A4 E5 C5 D5 G4 B4 C5 ', 'G5 F5 E5 B5 G5 B5 D6 C6 ', 'C5 A4 E5 C5 D5 G4 B4 C5 ', 'C5 A4 E5 C5 D5 G4 B4 C5 ', 'C5 A4 E5 C5 D5 G4 B4 C5 ', 'G6 D6 F6 E6 A5 E6 D6 C6 ', 'C6 E6 B5 C6 E6 C6 D6 C6 ', 'C5 A4 E5 C5 D5 G4 B4 C5 ', 'C5 A4 E5 C5 D5 G4 B4 C5 ', 'C5 A4 E5 C5 D5 G4 B4 C5 ', 'C5 F5 E5 C5 D5 E5 B4 C5 ', 'G4 B4 D5 C5 F4 G4 B4 C5 ', 'C5 B4 A4 B4 C5 G5 B4 C5 ', 'C5 D5 A5 F5 G5 F5 D5 C5 ', 'C5 A4 E5 C5 D5 G4 B4 C5 ', 'C5 A4 E5 C5 D5 G4 B4 C5 ', 'C5 A4 E5 C5 D5 G4 B4 C5 ', 'C5 B4 E5 D5 B4 C5 B4 C5 ', 'C5 A4 E5 C5 D5 G4 B4 C5 ', 'C6 D6 F6 A5 C6 G5 B5 C6 ', 'C5 A4 E5 C5 D5 G4 B4 C5 ', 'C5 A4 E5 C5 D5 G4 B4 C5 ', 'C5 A4 E5 C5 D5 G4 B4 C5 ', 'C5 A4 E5 C5 D5 G4 B4 C5 ', 'C5 A4 E5 C5 D5 G4 B4 C5 ', 'C5 A4 E5 C5 D5 G4 B4 C5 ', 'C5 D5 C5 D5 G5 F5 D5 C5 ', 'C5 A4 E5 C5 D5 G4 B4 C5 ', 'C5 A4 E5 C5 D5 G4 B4 C5 ', 'C5 A4 E5 C5 D5 G4 B4 C5 ', 'C5 A4 E5 C5 D5 G4 B4 C5 ', 'C5 E5 D5 A5 F5 G5 D5 C5 ', 'C5 A4 E5 C5 D5 G4 B4 C5 ', 'C5 E5 A5 F5 G5 F5 D5 C5 ', 'C5 A4 E5 C5 D5 G4 B4 C5 ', 'G4 B4 D5 C5 F4 G4 B4 C5 ', 'G5 C5 D5 B4 G5 F5 D5 C5 ', 'C5 A4 E5 C5 D5 G4 B4 C5 ', 'C6 G5 B5 G5 E5 C6 B5 C6 ', 'C5 A4 E5 C5 D5 G4 B4 C5 ', 'G5 D6 G6 C6 E5 C6 B5 C6 ', 'C5 A4 E5 C5 D5 G4 B4 C5 ', 'C5 E5 B4 G5 E5 C5 D5 C5 ', 'C5 A4 E5 C5 D5 G4 B4 C5 ', 'C5 A4 E5 C5 D5 G4 B4 C5 ', 'G6 D6 E6 D6 E6 D6 B5 C6 ', 'C5 A4 E5 C5 D5 G4 B4 C5 ', 'C5 A4 E5 C5 D5 G4 B4 C5 ', 'C5 E5 A5 G5 F5 G5 D5 C5 ', 'C5 A4 E5 C5 D5 G4 B4 C5 ', 'C5 D5 E5 D5 C5 B4 D5 C5 ', 'C4 D4 E4 C4 D4 A3 D4 C4 ', 'G4 D5 C5 G5 E5 F5 D5 C5 ', 'G6 D6 E6 A5 D6 F6 D6 C6 ', 'G5 F5 E5 B5 A5 G5 B5 C6 ', 'C4 G3 A3 C4 E4 C4 D4 C4 ', 'C5 A4 E5 C5 D5 G4 B4 C5 ', 'C5 A4 E5 C5 D5 G4 B4 C5 ', 'C5 A4 E5 C5 D5 G4 B4 C5 ', 'C5 A4 E5 C5 D5 G4 B4 C5 ', 'C5 F5 D5 E5 G5 F5 D5 C5 ', 'G5 D5 E5 F5 G5 A5 D5 C5 ', 'C5 A4 E5 C5 D5 G4 B4 C5 ', 'C5 A4 E5 C5 D5 G4 B4 C5 ', 'C5 A4 E5 C5 D5 G4 B4 C5 ', 'C5 A4 E5 C5 D5 G4 B4 C5 ', 'C5 A4 E5 C5 D5 G4 B4 C5 ', 'C5 D5 B4 G5 E5 C5 D5 C5 ', 'C5 A4 E5 C5 D5 G4 B4 C5 ', 'C6 D6 C6 G6 F6 E6 D6 C6 ', 'G5 F5 E5 B5 A5 C6 B5 C6 ', 'C5 A4 E5 C5 D5 G4 B4 C5 ', 'C5 E5 B4 C5 E5 C5 D5 C5 ', 'C5 A4 E5 C5 D5 G4 B4 C5 ', 'G4 D4 F4 D4 F4 A4 D4 C4 ', 'C5 F5 E5 D5 G4 A4 B4 C5 ', 'C5 A4 E5 C5 D5 G4 B4 C5 ', 'C6 B5 C6 A5 C6 E6 B5 C6 ', 'C5 A4 E5 C5 D5 G4 B4 C5 ', 'C5 A4 E5 C5 D5 G4 B4 C5 ', 'G6 B5 C6 D6 A5 C6 B5 C6 ', 'C6 E6 D6 B5 G6 F6 D6 C6 ', 'C5 D5 B4 G5 F5 E5 D5 C5 ', 'C5 A4 E5 C5 D5 G4 B4 C5 ', 'C5 D5 G4 B4 E5 A4 D5 C5 ', 'C5 B4 D5 C5 F4 G4 B4 C5 ', 'C5 A4 E5 C5 D5 G4 B4 C5 ', 'G5 D5 F5 E5 D5 B4 D5 C5 ', 'C5 A4 E5 C5 D5 G4 B4 C5 ', 'C5 A4 E5 C5 D5 G4 B4 C5 ', 'G4 F4 E4 F4 C5 G4 D5 C5 ', 'C5 A4 E5 C5 D5 G4 B4 C5 ', 'C5 A4 E5 C5 D5 G4 B4 C5 ', 'G5 F5 D5 E5 F5 G5 D6 C6 ', 'C6 D6 B5 C6 G6 F6 D6 C6 ', 'C5 A4 E5 C5 D5 G4 B4 C5 ', 'C5 A4 E5 C5 D5 G4 B4 C5 ', 'G5 F5 E5 G5 B5 A5 B5 C6 ', 'C5 A4 E5 C5 D5 G4 B4 C5 ', 'G5 C6 E6 C6 E5 F5 D5 C5 ', 'C5 F4 A4 G4 D5 G4 B4 C5 ', 'C5 A4 E5 C5 D5 G4 B4 C5 ', 'C5 A4 E5 C5 D5 G4 B4 C5 ', 'C5 A4 E5 C5 D5 G4 B4 C5 ', 'G5 B5 G5 A5 B5 G6 B5 C6 ', 'C5 A4 E5 C5 D5 G4 B4 C5 ', 'C5 A4 E5 C5 D5 G4 B4 C5 ', 'C5 A4 E5 C5 D5 G4 B4 C5 ', 'G5 D6 C6 A5 C6 E6 B5 C6 ', 'C5 F5 D5 F5 D5 A5 D5 C5 ', 'C5 D5 E5 D5 C5 A4 D5 C5 ', 'C5 A4 E5 C5 D5 G4 B4 C5 ', 'C5 A4 E5 C5 D5 G4 B4 C5 ', 'C5 A4 F4 G4 A4 G4 B4 C5 ', 'G5 F5 E5 B5 G5 C6 B5 C6 ', 'C5 A4 E5 C5 D5 G4 B4 C5 ', 'C5 A4 E5 C5 D5 G4 B4 C5 ', 'G6 C6 D6 E6 F6 G6 B5 C6 ', 'C5 D5 C5 E4 B4 G4 D5 C5 ', 'C5 A4 E5 C5 D5 G4 B4 C5 ', 'C5 A4 E5 C5 D5 G4 B4 C5 ', 'C5 A4 E5 C5 D5 G4 B4 C5 ', 'G5 F5 G5 C6 B5 A5 D5 C5 ', 'C5 A4 E5 C5 D5 G4 B4 C5 ', 'C5 A4 E5 C5 D5 G4 B4 C5 ', 'C5 G4 A4 B4 C5 G5 B4 C5 ', 'C5 B4 G4 B4 E5 A4 B4 C5 ', 'C5 E5 B4 C5 E5 C6 B5 C6 ', 'C5 A4 E5 C5 D5 G4 B4 C5 ', 'C5 A4 E5 C5 D5 G4 B4 C5 ', 'C5 G5 F5 E5 B5 A5 D5 C5 ', 'G5 B5 G5 A5 E6 D6 B5 C6 ', 'G5 D6 B5 G6 E6 C6 D6 C6 ', 'G4 F4 G4 E4 F4 G4 D5 C5 ', 'C5 A4 D5 C5 E4 F4 D4 C4 ', 'C6 D6 C6 G6 F6 E6 D6 C6 ', 'C5 A4 E5 C5 D5 G4 B4 C5 ', 'C5 A4 E5 C5 D5 G4 B4 C5 ', 'C5 F5 E5 A4 B4 C5 D5 C5 ', 'C5 A4 E5 C5 D5 G4 B4 C5 ', 'C5 A4 D5 C5 E4 F4 D4 C4 ', 'C5 A4 E5 C5 D5 G4 B4 C5 ', 'C5 G4 A4 G4 A4 G4 B3 C4 ', 'C5 A4 E5 C5 D5 G4 B4 C5 ', 'C5 A4 E5 C5 D5 G4 B4 C5 ', 'C5 G4 A4 E5 C5 D5 B4 C5 ', 'G5 F5 E5 F5 A5 G5 B5 C6 ', 'G5 D5 E5 D5 F5 A5 D5 C5 ', 'C4 B3 A3 F4 D4 E4 B3 C4 ', 'G5 D5 E5 F5 G5 A5 D5 C5 ', 'C5 A4 E5 C5 D5 G4 B4 C5 ', 'C5 A4 E5 C5 D5 G4 B4 C5 ', 'C4 D4 B3 D4 G4 F4 D4 C4 ', 'C5 E5 A5 F5 A4 D5 B4 C5 ', 'C5 E5 B4 C5 D5 F5 D5 C5 ', 'C5 A4 E5 C5 D5 G4 B4 C5 ', 'C5 A4 E5 C5 D5 G4 B4 C5 ', 'C5 A4 E5 C5 D5 G4 B4 C5 ', 'C5 A4 E5 C5 D5 G4 B4 C5 ', 'C5 A4 E5 C5 D5 G4 B4 C5 ', 'C5 D5 C5 D5 G4 C5 B4 C5 ', 'C5 A4 E5 C5 D5 G4 B4 C5 ', 'C5 A4 E5 C5 D5 G4 B4 C5 ', 'C5 A4 E5 C5 D5 G4 B4 C5 ', 'C5 A4 E5 C5 D5 G4 B4 C5 ', 'C5 A4 E5 C5 D5 G4 B4 C5 ', 'C5 A4 E5 C5 D5 G4 B4 C5 ', 'C4 G4 F4 G4 B4 G4 B3 C4 ', 'C5 A4 E5 C5 D5 G4 B4 C5 ', 'C6 B5 D6 B5 G5 A5 D5 C5 ', 'C6 B5 G5 A5 B5 A5 B5 C6 ', 'C5 A4 E5 C5 D5 G4 B4 C5 ', 'C5 D5 F5 D5 E5 C5 D5 C5 ', 'C5 A4 E5 C5 D5 G4 B4 C5 ', 'C5 A4 E5 C5 D5 G4 B4 C5 ', 'C5 G4 A4 G4 D4 A4 D5 C5 ', 'C5 A4 E5 C5 D5 G4 B4 C5 ', 'C5 A4 E5 C5 D5 G4 B4 C5 ', 'C5 F4 A4 G4 F4 G4 B3 C4 ', 'C4 A3 E4 D4 G3 A3 B3 C4 ', 'C5 A4 E5 C5 D5 G4 B4 C5 ', 'C5 A4 E5 C5 D5 G4 B4 C5 ', 'C5 D5 E5 D5 B4 C5 D5 C5 ', 'C5 D5 E5 C5 A4 C5 B4 C5 ', 'G6 B5 D6 G5 C6 A5 B5 C6 ', 'G5 C5 E5 D5 A4 F5 D5 C5 ', 'C5 B4 C5 G4 D5 C5 B4 C5 ', 'G4 D4 F4 A4 F4 G4 D4 C4 ', 'C5 A4 E5 C5 D5 G4 B4 C5 ', 'C5 A4 E5 C5 D5 G4 B4 C5 ', 'C5 B4 A4 E5 A5 G5 B5 C6 ', 'C5 A4 E5 C5 D5 G4 B4 C5 ', 'C6 E6 D6 C6 E5 C6 B5 C6 ', 'C5 A4 E5 C5 D5 G4 B4 C5 ', 'C5 E5 B4 C5 D5 C5 D5 C5 ', 'C6 D6 C6 D6 B5 C6 D6 C6 ', 'C5 A4 E5 C5 D5 G4 B4 C5 ', 'C5 A4 E5 C5 D5 G4 B4 C5 ', 'G5 C5 E5 C5 D5 E5 B4 C5 ', 'C5 D5 G4 A4 E5 B4 D5 C5 ', 'C5 F4 A3 B3 D4 G4 B3 C4 ', 'C5 A4 E5 C5 D5 G4 B4 C5 ', 'C5 E5 C5 E5 D5 G4 B4 C5 ', 'C5 A4 E5 C5 D5 G4 B4 C5 ', 'G4 B4 G4 A4 B4 G5 B4 C5 ', 'G5 D6 C6 A5 E6 C6 D6 C6 ', 'G5 C5 D5 E5 A4 E5 D5 C5 ', 'C5 E5 A5 G5 F5 C5 D5 C5 ', 'C5 A4 E5 C5 D5 G4 B4 C5 ', 'C5 A4 E5 C5 D5 G4 B4 C5 ', 'C5 A4 E5 C5 D5 G4 B4 C5 ', 'C5 A4 E5 C5 D5 G4 B4 C5 ', 'C5 A4 E5 C5 D5 G4 B4 C5 ', 'C5 A4 E5 C5 D5 G4 B4 C5 ', 'G4 B4 G4 A4 B4 G5 B4 C5 ', 'C4 D4 E4 C4 D4 A3 B3 C4 ', 'C5 A4 E5 C5 D5 G4 B4 C5 ', 'C4 A3 F4 A3 B3 A3 B3 C4 ', 'C4 E4 A4 G4 E4 F4 D4 C4 ', 'C5 A4 E5 C5 D5 G4 B4 C5 ', 'C6 E6 A5 B5 G6 F6 D6 C6 ', 'C5 A4 E5 C5 D5 G4 B4 C5 ', 'C5 A4 E5 C5 D5 G4 B4 C5 ', 'C5 A4 E5 C5 D5 G4 B4 C5 ', 'C5 A4 E5 C5 D5 G4 B4 C5 ', 'C6 D6 B5 G6 F6 G6 D6 C6 ', 'G5 C6 B5 G5 E5 C6 B5 C6 ', 'G5 B5 D6 C6 F5 G5 B5 C6 ', 'C6 D6 C6 D6 C6 E6 D6 C6 ', 'C5 A4 E5 C5 D5 G4 B4 C5 ', 'C4 B3 G3 A3 D4 A3 D4 C4 ', 'C5 A4 E5 C5 D5 G4 B4 C5 ', 'G5 F5 G5 F5 G5 E5 B5 C6 ', 'C5 A4 E5 C5 D5 G4 B4 C5 ', 'C6 B5 D6 G5 A5 G5 B5 C6 ', 'C5 A4 E5 C5 D5 G4 B4 C5 ', 'C5 A4 E4 G4 F4 G4 B4 C5 ', 'C5 D5 E5 D5 B4 C5 D5 C5 ', 'G6 F6 A5 C6 B5 D6 B5 C6 ', 'C5 G5 E5 B5 E5 F5 D5 C5 ', 'C5 G5 E5 G5 E5 A5 D5 C5 ', 'G4 B4 G4 B4 E5 A4 B4 C5 ', 'C5 E5 B4 C5 F5 E5 B5 C6 ', 'C5 A4 E5 C5 D5 G4 B4 C5 ', 'C5 G5 E5 F5 G5 A5 D5 C5 ', 'C5 A4 E5 C5 D5 G4 B4 C5 ', 'G4 F4 E4 G4 B4 A4 B4 C5 ', 'C5 E5 A5 F5 C5 E5 B4 C5 ', 'C5 A4 E5 C5 D5 G4 B4 C5 ', 'C5 B4 D5 B4 C5 G4 B4 C5 ', 'C5 F4 G4 C5 B4 G4 D5 C5 ', 'C5 A4 E5 C5 D5 G4 B4 C5 ', 'C5 B4 C5 G4 A4 D5 B4 C5 ', 'C6 G5 C6 B5 E5 C6 B5 C6 ', 'C5 D5 E5 C5 G4 A4 B4 C5 ', 'C5 A4 E5 C5 D5 G4 B4 C5 ', 'C6 E6 D6 B5 G6 F6 D6 C6 ', 'C5 D5 E5 D5 B4 G4 B4 C5 ', 'C5 G5 E5 F5 G5 D6 B5 C6 ', 'G5 F5 E5 C6 B5 C6 D6 C6 ', 'C5 A4 E5 C5 D5 G4 B4 C5 ', 'C5 A4 E5 C5 D5 G4 B4 C5 ', 'C5 A4 E5 C5 D5 G4 B4 C5 ', 'C5 D5 C5 G5 E5 F5 D5 C5 ', 'C5 E5 B4 C5 E5 C6 B5 C6 ', 'G6 D6 B5 G6 F6 G6 D6 C6 ', 'C5 D5 G4 A4 E5 C6 B5 C6 ', 'C5 A4 E5 C5 D5 G4 B4 C5 ', 'C5 A4 E5 C5 D5 G4 B4 C5 ', 'C5 A4 E5 C5 D5 G4 B4 C5 ', 'C4 D4 E4 D4 C4 G3 B3 C4 ', 'C5 A4 E5 C5 D5 G4 B4 C5 ', 'C5 A4 E5 C5 D5 G4 B4 C5 ', 'C5 E5 B4 C5 F5 A5 D5 C5 ', 'C5 A4 E5 C5 D5 G4 B4 C5 ', 'C5 A4 E5 C5 D5 G4 B4 C5 ', 'C5 A4 E5 C5 D5 G4 B4 C5 ', 'C5 A4 E5 C5 D5 G4 B4 C5 ', 'G5 F5 G5 E5 F5 G5 B5 C6 ', 'C5 A4 E5 C5 D5 G4 B4 C5 ', 'C5 A4 E5 C5 D5 G4 B4 C5 ', 'C5 E5 D5 E5 G5 F5 D5 C5 ', 'C5 A4 E5 C5 D5 G4 B4 C5 ', 'G5 D6 G5 C6 B5 E6 D6 C6 ', 'C5 A4 E5 C5 D5 G4 B4 C5 ', 'C4 G4 F4 A4 E4 C4 D4 C4 ', 'C5 A4 E5 C5 D5 G4 B4 C5 ', 'C5 A4 E5 C5 D5 G4 B4 C5 ', 'C5 A4 E5 C5 D5 G4 B4 C5 ', 'G4 C5 B4 A4 E5 C5 D5 C5 ', 'C5 B4 D5 B4 G4 A4 D4 C4 ', 'C4 B3 D4 B3 C4 A3 B3 C4 ', 'C5 B4 A4 F5 D5 F5 D5 C5 ', 'C5 A4 E5 C5 D5 G4 B4 C5 ', 'C5 A4 E5 C5 D5 G4 B4 C5 ', 'C5 A4 E5 C5 D5 G4 B4 C5 ', 'C5 A4 E5 C5 D5 G4 B4 C5 ', 'G5 C6 B5 G5 A5 E6 B5 C6 ', 'C5 A4 E5 C5 D5 G4 B4 C5 ', 'C5 A4 E5 C5 D5 G4 B4 C5 ', 'G4 F4 E4 F4 A4 D5 B4 C5 ', 'C5 F5 E5 B5 G5 A5 D5 C5 ', 'C5 A4 E5 C5 D5 G4 B4 C5 ', 'C5 A4 E5 C5 D5 G4 B4 C5 ', 'G5 D6 C6 A5 E6 C6 D6 C6 ', 'C4 F4 E4 D4 F4 A4 D4 C4 ', 'C5 A4 E5 C5 D5 G4 B4 C5 ', 'C5 A4 E5 C5 D5 G4 B4 C5 ', 'C6 E6 A5 B5 E6 D6 B5 C6 ', 'C5 A4 E5 C5 D5 G4 B4 C5 ', 'C5 A4 E5 C5 D5 G4 B4 C5 ', 'C5 B4 G4 B4 D5 A4 B4 C5 ', 'C5 A4 E5 C5 D5 G4 B4 C5 ', 'C5 A4 E5 C5 D5 G4 B4 C5 ', 'G5 C6 A5 C6 F5 G5 B5 C6 ', 'C5 A4 E5 C5 D5 G4 B4 C5 ', 'C5 A4 E5 C5 D5 G4 B4 C5 ', 'C5 E5 C5 D5 E5 F5 D5 C5 ', 'C5 A4 E5 C5 D5 G4 B4 C5 ', 'C5 A4 E5 C5 D5 G4 B4 C5 ', 'C5 G5 E5 F5 G5 A5 D5 C5 ', 'C5 A4 E5 C5 D5 G4 B4 C5 ', 'G5 D6 A5 B5 G6 C6 D6 C6 ', 'C5 A4 E5 C5 D5 G4 B4 C5 ', 'G5 D6 C6 B5 A5 F6 D6 C6 ', 'C5 F5 D5 F5 A5 G5 B4 C5 ', 'G5 D5 B4 G5 E5 C6 B5 C6 ', 'G5 B5 G5 A5 G5 A5 D6 C6 ', 'G5 D5 A5 F5 G5 F5 D5 C5 ', 'G5 D6 B5 C6 G6 F6 D6 C6 ', 'C5 A4 E5 C5 D5 G4 B4 C5 ', 'C5 E5 B4 C5 G5 F5 D5 C5 ', 'C5 A4 E5 C5 D5 G4 B4 C5 ', 'C5 A4 E5 C5 D5 G4 B4 C5 ', 'C4 B3 C4 E4 C4 A3 D4 C4 ', 'C5 A4 E5 C5 D5 G4 B4 C5 ', 'C5 A4 E5 C5 D5 G4 B4 C5 ', 'C5 E5 D5 A5 F5 G5 D5 C5 ', 'C5 A4 E5 C5 D5 G4 B4 C5 ', 'G5 C5 D5 E5 B5 E5 B4 C5 ', 'C4 D4 G4 F4 D4 F4 D4 C4 ', 'G5 D5 E5 G5 B5 A5 D5 C5 ', 'C5 A4 E5 C5 D5 G4 B4 C5 ', 'G6 B5 G6 F6 A5 C6 B5 C6 ', 'C5 A4 E5 C5 D5 G4 B4 C5 ', 'G4 D4 F4 A4 D4 E4 D4 C4 ', 'C5 B4 E4 G4 F4 G4 B4 C5 ', 'C5 F5 D5 E5 F5 G5 D5 C5 ', 'C5 A4 E5 C5 D5 G4 B4 C5 ', 'C6 F5 G5 C6 A5 B5 D6 C6 ', 'C5 A4 E5 C5 D5 G4 B4 C5 ', 'C5 A4 E5 C5 D5 G4 B4 C5 ', 'G4 B4 G4 A4 E5 A4 B4 C5 ', 'C5 A4 E5 C5 D5 G4 B4 C5 ', 'G4 D5 C5 E5 B4 E4 B4 C5 ', 'C5 A4 E5 C5 D5 G4 B4 C5 ', 'G5 C6 A5 B5 A5 E6 B5 C6 ', 'C5 G5 E5 F5 E5 G5 B4 C5 ', 'C6 D6 B5 G6 F6 E6 D6 C6 ', 'C5 A4 E5 C5 D5 G4 B4 C5 ', 'C5 A4 E5 C5 D5 G4 B4 C5 ', 'C4 E4 C4 E4 D4 G4 B3 C4 ', 'C5 A4 E5 C5 D5 G4 B4 C5 ', 'C5 A4 E5 C5 D5 G4 B4 C5 ', 'G5 C6 B5 C6 G5 E5 B5 C6 ', 'C5 A4 E5 C5 D5 G4 B4 C5 ', 'C5 A4 E5 C5 D5 G4 B4 C5 ', 'C5 B4 D5 B4 G4 A4 D4 C4 ', 'C5 A4 E5 C5 D5 G4 B4 C5 ', 'C5 A4 E5 C5 D5 G4 B4 C5 ', 'C5 A4 E5 C5 D5 G4 B4 C5 ', 'C5 A4 E5 C5 D5 G4 B4 C5 ', 'C5 A4 E5 C5 D5 G4 B4 C5 ', 'G5 F5 A5 G5 D5 B4 D5 C5 ', 'C5 A4 E5 C5 D5 G4 B4 C5 ', 'C5 A4 E5 C5 D5 G4 B4 C5 ', 'C5 A4 E5 C5 D5 G4 B4 C5 ', 'C5 D5 B4 C5 G5 F5 D5 C5 ', 'G6 F6 A5 B5 E6 C6 D6 C6 ', 'C4 G4 F4 A4 E4 F4 D4 C4 ', 'C6 D6 B5 C6 G6 F6 D6 C6 ', 'C5 A4 E5 C5 D5 G4 B4 C5 ', 'C5 A4 E5 C5 D5 G4 B4 C5 ', 'C5 D5 B4 G5 F5 E5 D5 C5 ', 'G5 F5 E5 C6 B5 A5 D6 C6 ', 'G5 D6 A5 B5 A5 F6 D6 C6 ', 'C5 A4 E5 C5 D5 G4 B4 C5 ', 'C4 A3 D4 C4 F3 G3 B3 C4 ', 'C5 F5 E5 D5 G4 A4 B4 C5 ', 'C5 B4 G4 B4 E5 C5 D5 C5 ', 'G5 F5 D5 E5 B5 A5 D6 C6 ', 'C5 A4 E5 C5 D5 G4 B4 C5 ', 'G4 C5 A4 B4 A4 E5 B4 C5 ', 'C5 A4 E5 C5 D5 G4 B4 C5 ', 'C5 A4 E5 C5 D5 G4 B4 C5 ', 'C5 A4 E5 C5 D5 G4 B4 C5 ', 'G5 F5 E5 G5 F5 G5 D6 C6 ', 'C5 G4 D5 C5 B4 G4 B4 C5 ', 'C5 A4 E5 C5 D5 G4 B4 C5 ', 'C4 B3 A3 C4 F4 E4 D4 C4 ', 'C4 B3 D4 C4 F3 G3 B3 C4 ', 'C5 A4 E5 C5 D5 G4 B4 C5 ', 'G4 D4 F4 D4 G4 D5 B4 C5 ', 'C5 A4 E5 C5 D5 G4 B4 C5 ', 'C5 A4 E5 C5 D5 G4 B4 C5 ', 'C5 A4 E5 C5 D5 G4 B4 C5 ', 'G5 B5 G5 B5 E6 D6 B5 C6 ', 'C5 A4 E5 C5 D5 G4 B4 C5 ', 'G5 F5 E5 F5 C6 F6 D6 C6 ', 'G5 D5 E5 F5 G5 A5 D5 C5 ', 'C5 D5 B4 C5 G5 F5 D5 C5 ', 'G5 F5 E5 G5 B5 A5 D6 C6 ', 'G5 C6 A5 B5 A5 E6 B5 C6 ', 'C5 A4 E5 C5 D5 G4 B4 C5 ', 'C6 B5 A5 B5 C6 E6 B5 C6 ', 'C5 A4 E5 C5 D5 G4 B4 C5 ', 'C5 A4 E5 C5 D5 G4 B4 C5 ', 'C5 A4 E5 C5 D5 G4 B4 C5 ', 'C5 G5 E5 C6 E5 A5 D5 C5 ', 'C5 A4 E5 C5 D5 G4 B4 C5 ', 'C6 D6 F6 A5 B5 G5 B5 C6 ', 'C5 A4 E5 C5 D5 G4 B4 C5 ', 'C6 G6 F6 G6 D6 G5 B5 C6 ', 'C5 A4 E5 C5 D5 G4 B4 C5 ', 'C5 A4 E5 C5 D5 G4 B4 C5 ', 'C5 A4 E5 C5 D5 G4 B4 C5 ', 'G5 F5 E5 A5 C6 B5 D6 C6 ', 'C5 A4 E5 C5 D5 G4 B4 C5 ', 'C5 G5 B4 G5 F5 G5 D6 C6 ', 'C5 A4 E5 C5 D5 G4 B4 C5 ', 'C5 A4 E5 C5 D5 G4 B4 C5 ', 'C5 E5 B4 C5 G5 F5 D5 C5 ', 'G6 C6 D6 E6 F6 G6 B5 C6 ', 'C5 A4 E5 C5 D5 G4 B4 C5 ', 'C5 B4 D5 A4 B4 G4 B4 C5 ', 'C5 A4 E5 C5 D5 G4 B4 C5 ', 'C5 A4 E5 C5 D5 G4 B4 C5 ', 'C5 A4 E5 C5 D5 G4 B4 C5 ', 'C5 A4 E5 C5 D5 G4 B4 C5 ', 'C5 G5 E5 B5 E5 F5 D5 C5 ', 'G6 C6 D6 C6 G5 A5 D6 C6 ', 'C5 A4 E5 C5 D5 G4 B4 C5 ', 'C5 A4 E5 C5 D5 G4 B4 C5 ', 'G4 F4 G4 B4 G4 A4 D4 C4 ', 'C6 D6 C6 D6 G5 D6 B5 C6 ', 'C5 A4 E5 C5 D5 G4 B4 C5 ', 'G4 D5 C5 E4 B4 A4 D5 C5 ', 'G4 D4 E4 C4 E4 C5 B4 C5 ', 'C5 D5 A5 G5 B4 C5 D5 C5 ', 'C5 D5 G4 A4 C5 E5 B4 C5 ', 'C5 A4 E5 C5 D5 G4 B4 C5 ', 'C5 E5 B4 G5 F5 G5 D6 C6 ', 'C4 G4 E4 G4 F4 A4 D4 C4 ', 'C4 D4 E4 D4 G3 B3 D4 C4 ', 'C5 A4 E5 C5 D5 G4 B4 C5 ', 'C5 F5 E5 C5 E5 A4 B4 C5 ', 'C5 A4 E5 C5 D5 G4 B4 C5 ', 'C5 A4 E5 C5 D5 G4 B4 C5 ', 'C5 A4 E5 C5 D5 G4 B4 C5 ', 'C5 A4 E5 C5 D5 G4 B4 C5 ', 'C5 A4 E5 C5 D5 G4 B4 C5 ', 'C4 D4 G3 B3 A3 D4 B3 C4 ', 'C5 B4 E5 C5 D5 C5 D5 C5 ', 'C5 D5 E5 C5 A4 C5 B4 C5 ', 'G5 C5 E5 C5 G5 B4 D5 C5 ', 'C5 A4 E5 C5 D5 G4 B4 C5 ', 'C5 A4 E5 C5 D5 G4 B4 C5 ', 'C5 A4 E5 C5 D5 G4 B4 C5 ', 'C5 A4 E5 C5 D5 G4 B4 C5 ', 'C6 B5 A5 B5 D6 C6 B5 C6 ', 'C5 A4 E5 C5 D5 G4 B4 C5 ', 'C5 A4 E5 C5 D5 G4 B4 C5 ', 'C4 D4 B3 C4 F4 E4 B4 C5 ', 'C5 D5 C5 E5 B4 C5 D5 C5 ']\n",
            "output: ['C6', 'C6', 'C4', 'C6', 'C6', 'C5', 'C6', 'C4', 'C5', 'C5', 'C6', 'C6', 'C6', 'C6', 'C4', 'C6', 'C6', 'C6', 'C6', 'C6', 'C6', 'C6', 'C6', 'C6', 'C5', 'C5', 'C4', 'C6', 'C6', 'C4', 'C4', 'C4', 'C6', 'C6', 'C5', 'C6', 'C5', 'C6', 'C6', 'C6', 'C6', 'C4', 'C5', 'C6', 'C6', 'C6', 'C6', 'C6', 'C5', 'C6', 'C6', 'C5', 'C6', 'C5', 'C6', 'C6', 'C5', 'C6', 'C5', 'C5', 'C5', 'C5', 'C5', 'C6', 'C6', 'C6', 'C6', 'C6', 'C6', 'C6', 'C6', 'C5', 'C6', 'C6', 'C4', 'C6', 'C6', 'C5', 'C6', 'C6', 'C5', 'C6', 'C6', 'C5', 'C6', 'C6', 'C6', 'C5', 'C6', 'C5', 'C6', 'C6', 'C4', 'C6', 'C5', 'C6', 'C6', 'C5', 'C6', 'C6', 'C6', 'C5', 'C6', 'C5', 'C6', 'C5', 'C6', 'C6', 'C5', 'C6', 'C6', 'C6', 'C6', 'C5', 'C6', 'C5', 'C5', 'C4', 'C4', 'C6', 'C6', 'C6', 'C6', 'C6', 'C5', 'C4', 'C6', 'C6', 'C6', 'C5', 'C4', 'C5', 'C6', 'C6', 'C5', 'C6', 'C4', 'C6', 'C5', 'C4', 'C6', 'C6', 'C6', 'C6', 'C6', 'C6', 'C6', 'C6', 'C6', 'C6', 'C6', 'C6', 'C6', 'C6', 'C6', 'C6', 'C6', 'C4', 'C6', 'C6', 'C5', 'C5', 'C4', 'C6', 'C6', 'C6', 'C5', 'C6', 'C6', 'C4', 'C6', 'C6', 'C5', 'C5', 'C6', 'C6', 'C5', 'C4', 'C5', 'C6', 'C6', 'C6', 'C4', 'C6', 'C5', 'C4', 'C5', 'C4', 'C6', 'C4', 'C6', 'C6', 'C6', 'C6', 'C6', 'C6', 'C6', 'C5', 'C4', 'C6', 'C6', 'C6', 'C5', 'C6', 'C4', 'C6', 'C5', 'C5', 'C5', 'C5', 'C6', 'C6', 'C4', 'C6', 'C6', 'C6', 'C6', 'C5', 'C5', 'C6', 'C6', 'C6', 'C6', 'C6', 'C5', 'C6', 'C6', 'C6', 'C6', 'C5', 'C5', 'C4', 'C5', 'C6', 'C6', 'C4', 'C4', 'C6', 'C6', 'C5', 'C6', 'C6', 'C6', 'C6', 'C5', 'C6', 'C6', 'C6', 'C6', 'C6', 'C5', 'C5', 'C6', 'C6', 'C5', 'C6', 'C6', 'C6', 'C4', 'C6', 'C6', 'C6', 'C4', 'C6', 'C6', 'C6', 'C6', 'C5', 'C6', 'C6', 'C6', 'C4', 'C6', 'C6', 'C6', 'C6', 'C6', 'C6', 'C6', 'C5', 'C5', 'C6', 'C5', 'C6', 'C6', 'C6', 'C6', 'C6', 'C6', 'C5', 'C6', 'C6', 'C6', 'C6', 'C6', 'C4', 'C6', 'C5', 'C4', 'C6', 'C6', 'C6', 'C6', 'C6', 'C6', 'C6', 'C6', 'C6', 'C6', 'C6', 'C6', 'C6', 'C6', 'C6', 'C6', 'C6', 'C4', 'C6', 'C6', 'C6', 'C4', 'C5', 'C4', 'C6', 'C6', 'C6', 'C5', 'C6', 'C6', 'C6', 'C6', 'C6', 'C6', 'C4', 'C4', 'C6', 'C6', 'C5', 'C6', 'C6', 'C6', 'C6', 'C6', 'C6', 'C5', 'C6', 'C6', 'C6', 'C6', 'C6', 'C6', 'C5', 'C6', 'C4', 'C4', 'C6', 'C6', 'C6', 'C5', 'C6', 'C6', 'C6', 'C6', 'C6', 'C6', 'C5', 'C4', 'C6', 'C4', 'C5', 'C6', 'C6', 'C6', 'C5', 'C5', 'C5', 'C6', 'C5', 'C6', 'C6', 'C6', 'C6', 'C6', 'C6', 'C6', 'C6', 'C4', 'C5', 'C6', 'C6', 'C5', 'C4', 'C6', 'C5', 'C4', 'C6', 'C5', 'C5', 'C5', 'C4', 'C5', 'C6', 'C6', 'C6', 'C5', 'C6', 'C6', 'C6', 'C4', 'C6', 'C6', 'C4', 'C5', 'C5', 'C4', 'C6', 'C6', 'C5', 'C6', 'C6', 'C6', 'C5', 'C6', 'C4', 'C5', 'C6', 'C6', 'C6', 'C6', 'C5', 'C6', 'C6', 'C6', 'C6', 'C5', 'C6', 'C6', 'C4', 'C6', 'C6', 'C6', 'C6', 'C6', 'C5', 'C6', 'C6', 'C6', 'C4', 'C6', 'C5', 'C4', 'C5', 'C6', 'C6', 'C6', 'C6', 'C4', 'C6', 'C4', 'C6', 'C6', 'C6', 'C6', 'C6', 'C5', 'C5', 'C6', 'C6', 'C6', 'C6', 'C6', 'C6', 'C5', 'C6', 'C6', 'C6', 'C6', 'C6', 'C6', 'C6', 'C6', 'C6', 'C6', 'C5', 'C6', 'C6', 'C6', 'C5', 'C5', 'C4', 'C6', 'C6', 'C4', 'C6', 'C6', 'C6', 'C4', 'C6', 'C5', 'C6', 'C6', 'C4', 'C5', 'C6', 'C5', 'C6', 'C4', 'C6', 'C6', 'C5', 'C5', 'C6', 'C6', 'C6', 'C6', 'C6', 'C4', 'C6', 'C6', 'C6', 'C6', 'C6', 'C6', 'C6', 'C6', 'C6', 'C6', 'C5', 'C6', 'C6', 'C6', 'C5', 'C6', 'C6', 'C6', 'C6', 'C6', 'C4', 'C4', 'C5', 'C6', 'C6', 'C6', 'C6', 'C6', 'C5', 'C6', 'C6', 'C6', 'C6', 'C6', 'C6', 'C5', 'C6', 'C6', 'C6', 'C6', 'C4', 'C6', 'C6', 'C6', 'C4', 'C5', 'C6', 'C5', 'C6', 'C5', 'C6', 'C6', 'C6', 'C6', 'C5', 'C6', 'C6', 'C5', 'C6', 'C6', 'C5', 'C4', 'C4', 'C5', 'C5', 'C6', 'C6', 'C6', 'C6', 'C5', 'C5', 'C6', 'C6', 'C6', 'C6', 'C6', 'C4', 'C6', 'C6', 'C5', 'C6', 'C5', 'C6', 'C4', 'C6', 'C6', 'C5', 'C6', 'C6', 'C5', 'C5', 'C6', 'C6', 'C6', 'C4', 'C6', 'C4', 'C6', 'C6', 'C4', 'C6', 'C6', 'C5', 'C6', 'C6', 'C6', 'C5', 'C6', 'C5', 'C4', 'C6', 'C6', 'C6', 'C5', 'C6', 'C6', 'C6', 'C5', 'C5', 'C4', 'C6', 'C6', 'C6', 'C5', 'C6', 'C6', 'C5', 'C6', 'C6', 'C6', 'C6', 'C5', 'C6', 'C6', 'C4', 'C6', 'C5', 'C6', 'C6', 'C4', 'C5', 'C5', 'C4', 'C6', 'C6', 'C6', 'C6', 'C6', 'C6', 'C6', 'C6', 'C6', 'C6', 'C6', 'C4', 'C4', 'C5', 'C5', 'C5', 'C6', 'C6', 'C5', 'C6', 'C6', 'C6', 'C6', 'C6', 'C6', 'C6', 'C4', 'C6', 'C6', 'C6', 'C6', 'C6', 'C6', 'C5', 'C6', 'C5', 'C5', 'C6', 'C6', 'C6', 'C6', 'C6', 'C6', 'C6', 'C6', 'C5', 'C6', 'C6', 'C6', 'C6', 'C5', 'C4', 'C6', 'C4', 'C6', 'C6', 'C6', 'C6', 'C5', 'C6', 'C6', 'C6', 'C6', 'C6', 'C4', 'C6', 'C6', 'C6', 'C6', 'C6', 'C4', 'C4', 'C4', 'C6', 'C6', 'C6', 'C6', 'C6', 'C6', 'C6', 'C4', 'C5', 'C6', 'C5', 'C5', 'C6', 'C6', 'C6', 'C6', 'C6', 'C6', 'C6', 'C5', 'C5', 'C6', 'C6', 'C5', 'C6', 'C5', 'C6', 'C5', 'C6', 'C4', 'C6', 'C5', 'C5', 'C5', 'C4', 'C6', 'C6', 'C5', 'C6', 'C4', 'C6', 'C6', 'C4', 'C6', 'C6', 'C4', 'C5', 'C6', 'C6', 'C6', 'C6', 'C5', 'C5', 'C6', 'C6', 'C6', 'C5', 'C6', 'C6', 'C6', 'C6', 'C6', 'C6', 'C5', 'C6', 'C6', 'C5', 'C6', 'C6', 'C6', 'C6', 'C5', 'C6', 'C6', 'C5', 'C6', 'C5', 'C6', 'C5', 'C6', 'C6', 'C6', 'C4', 'C4', 'C5', 'C4', 'C6', 'C6', 'C6', 'C6', 'C5', 'C6', 'C6', 'C4', 'C5', 'C6', 'C6', 'C5', 'C4', 'C6', 'C6', 'C5', 'C6', 'C6', 'C6', 'C6', 'C6', 'C5', 'C6', 'C6', 'C6', 'C6', 'C6', 'C5', 'C6', 'C4', 'C6', 'C5', 'C4', 'C4', 'C5', 'C5', 'C5', 'C6', 'C5', 'C6', 'C6', 'C5', 'C6', 'C6', 'C5', 'C6', 'C4', 'C5', 'C5', 'C6', 'C4', 'C6', 'C4', 'C6', 'C5', 'C6', 'C5', 'C6', 'C6', 'C4', 'C6', 'C4', 'C6', 'C5', 'C4', 'C6', 'C6', 'C6', 'C5', 'C6', 'C6', 'C5', 'C6', 'C6', 'C4', 'C6', 'C6', 'C6', 'C6', 'C6', 'C4', 'C6', 'C6', 'C6', 'C5', 'C4', 'C5', 'C6', 'C6', 'C6', 'C5', 'C5', 'C5', 'C6', 'C5', 'C6', 'C6', 'C5', 'C6', 'C4', 'C6', 'C6', 'C6', 'C5', 'C6', 'C6', 'C5', 'C5', 'C6', 'C4', 'C6', 'C6', 'C6', 'C5', 'C6', 'C4', 'C5', 'C4', 'C5', 'C5', 'C6', 'C5', 'C6', 'C6', 'C6', 'C5', 'C6', 'C5', 'C6', 'C5', 'C6', 'C6', 'C6', 'C4', 'C6', 'C5', 'C6', 'C6', 'C5', 'C5', 'C6', 'C6', 'C6', 'C6', 'C6', 'C6', 'C5', 'C5', 'C6', 'C6', 'C4', 'C5', 'C6', 'C4', 'C4', 'C5', 'C6', 'C6', 'C4', 'C5', 'C5', 'C6', 'C6', 'C6', 'C6', 'C6', 'C6', 'C6', 'C5', 'C6', 'C6', 'C4', 'C6', 'C6', 'C6', 'C6', 'C5', 'C6', 'C6', 'C5', 'C6']\n"
          ]
        }
      ]
    },
    {
      "cell_type": "markdown",
      "metadata": {
        "id": "3qdlCrV-gxnG"
      },
      "source": [
        "Arrange Data"
      ]
    },
    {
      "cell_type": "code",
      "metadata": {
        "colab": {
          "base_uri": "https://localhost:8080/"
        },
        "id": "407hlxVMgzcb",
        "outputId": "1cf0c0ec-8d70-4e22-8d7f-be782f6ac530"
      },
      "source": [
        "def make_label_dict(out_data):\n",
        "  \"\"\"create a one hot encoded dictionary for each unique note in output data\"\"\"\n",
        "  unique_data = []\n",
        "\n",
        "  for s in out_data:\n",
        "    n_list = s.split(\" \")\n",
        "    for note in n_list:\n",
        "      if note not in unique_data and note: # checks for prior equivelancy and existance\n",
        "        unique_data.append(note)\n",
        "\n",
        "  # get total number of unique categories\n",
        "  num_of_categories = len(unique_data)\n",
        "\n",
        "  # create one hot categorical vector\n",
        "  label_vect = to_categorical([x for x in range(num_of_categories)])\n",
        "  label_vect = label_vect.astype(int)\n",
        "\n",
        "  # make a dictionary of unique categories and an int label\n",
        "  label_dict = {}\n",
        "  for i in range(len(unique_data)):\n",
        "    label_dict[unique_data[i]] = list(label_vect[i])\n",
        "\n",
        "  return (label_dict)\n",
        "\n",
        "\n",
        "label_dict = make_label_dict(output)\n",
        "num_of_label_categories = len(label_dict)\n",
        "\n",
        "\n",
        "print(\"Train Label Dictionary:\\n\", label_dict)\n",
        "print(\"Number of Label Categories: \", num_of_label_categories)\n",
        "\n",
        "\n"
      ],
      "execution_count": null,
      "outputs": [
        {
          "output_type": "stream",
          "name": "stdout",
          "text": [
            "Train Label Dictionary:\n",
            " {'C6': [1, 0, 0], 'C4': [0, 1, 0], 'C5': [0, 0, 1]}\n",
            "Number of Label Categories:  3\n"
          ]
        }
      ]
    },
    {
      "cell_type": "markdown",
      "metadata": {
        "id": "j79Tb_QUh4c-"
      },
      "source": [
        "Integer Encoding"
      ]
    },
    {
      "cell_type": "code",
      "metadata": {
        "colab": {
          "base_uri": "https://localhost:8080/"
        },
        "id": "ydyLoIdPh53K",
        "outputId": "2a4ad515-4ae7-4796-ad0b-816ab360bd0e"
      },
      "source": [
        "from numpy import array\n",
        "input_size = 10 # should be a bit highter than note list length\n",
        "\n",
        "\n",
        "def encode_data(in_data):\n",
        "  \"\"\"encode notes into integer vector\"\"\"\n",
        "  encoded_notes = [one_hot(note, input_size) for note in in_data]\n",
        "  for l in encoded_notes:\n",
        "    for x in l:\n",
        "      x = int(x)\n",
        "  encoded_notes = array(encoded_notes)\n",
        "\n",
        "  return encoded_notes\n",
        "\n",
        "def find_lables(out_data, label_dict):\n",
        "  \"\"\"generate output label vector\"\"\"\n",
        "  out_labels = [label_dict[note] for note in out_data]\n",
        "  out_labels = array(out_labels)\n",
        "\n",
        "  return out_labels\n",
        "\n",
        "\n",
        "# encoded_train_data = encode_data(input)\n",
        "# encoded_test_data = encode_data(test_input)\n",
        "\n",
        "# train_lables = find_lables(train_output, train_label_dict)\n",
        "# test_lables = find_lables(test_output, train_label_dict)\n",
        "\n",
        "# print(\"Encoded Train Data:\\n\", encoded_train_data)\n",
        "# print(\"Train Lables:\\n\", train_lables)\n",
        "\n",
        "# print(\"\\nEncoded Test Data:\\n\", encoded_test_data)\n",
        "# print(\"Test Lables:\\n\", test_lables)\n",
        "\n",
        "encoded_input = encode_data(input)\n",
        "output_lables = find_lables(output, label_dict)\n",
        "\n",
        "print(\"Encoded Data:\\n\", encoded_input)\n",
        "print(\"Lables:\\n\", output_lables)\n",
        "\n"
      ],
      "execution_count": null,
      "outputs": [
        {
          "output_type": "stream",
          "name": "stdout",
          "text": [
            "Encoded Data:\n",
            " [[7 7 3 ... 1 7 7]\n",
            " [7 1 7 ... 1 7 7]\n",
            " [7 8 9 ... 7 7 7]\n",
            " ...\n",
            " [7 7 3 ... 1 7 7]\n",
            " [6 9 7 ... 8 7 7]\n",
            " [7 8 7 ... 7 8 7]]\n",
            "Lables:\n",
            " [[1 0 0]\n",
            " [1 0 0]\n",
            " [0 1 0]\n",
            " ...\n",
            " [1 0 0]\n",
            " [0 0 1]\n",
            " [1 0 0]]\n"
          ]
        }
      ]
    },
    {
      "cell_type": "markdown",
      "metadata": {
        "id": "WUx04-d4WZHS"
      },
      "source": [
        "Split Data"
      ]
    },
    {
      "cell_type": "code",
      "metadata": {
        "colab": {
          "base_uri": "https://localhost:8080/"
        },
        "id": "n9n6zDwnWb9C",
        "outputId": "ed92a499-f8cf-41a9-a17e-a750e0f1c85c"
      },
      "source": [
        "from random import shuffle\n",
        "\n",
        "def split_data(all_input, all_output, split_percentage):\n",
        "\n",
        "  # shuffle and split indexes\n",
        "  \"\"\"\n",
        "  basically we create a list of however long our input data is, and then shuffle it so it is randomized.\n",
        "  we can then slice that list of indices to get indexes for randomly split train and test datasets.\n",
        "  \"\"\"\n",
        "  input_length = len(input)\n",
        "  portion = round((input_length) * split_percentage)\n",
        "\n",
        "  ran_index_list = list(range(input_length))\n",
        "  shuffle(ran_index_list)\n",
        "  #print(ran_index_list)\n",
        "\n",
        "  train_indices = ran_index_list[:portion]\n",
        "  test_indices = ran_index_list[portion:]\n",
        "\n",
        "\n",
        "  # split data using generaged indices\n",
        "  \n",
        "  all_input = all_input.tolist()\n",
        "  all_output = all_output.tolist()\n",
        "\n",
        "  train_i = []\n",
        "  train_o = []\n",
        "\n",
        "  test_i = []\n",
        "  test_o = []\n",
        "\n",
        "  # generate test data\n",
        "  for index in train_indices:\n",
        "    train_i += [all_input[index]]\n",
        "    train_o += [all_output[index]]\n",
        "\n",
        "  # generate train data\n",
        "  for index in train_indices:\n",
        "    test_i += [all_input[index]]\n",
        "    test_o += [all_output[index]]\n",
        "\n",
        "  return (train_i, train_o, test_i, test_o)\n",
        "\n",
        "\n",
        "#call split function\n",
        "splits = split_data(encoded_input, output_lables, 0.80)\n",
        "\n",
        "train_input = array(splits[0])\n",
        "train_lables = array(splits[1])\n",
        "test_input = array(splits[2])\n",
        "test_lables = array(splits[3])\n",
        "\n",
        "print(\"train_input:\\n\", train_input)\n",
        "print(\"train_lables:\\n\", train_lables)\n",
        "print(\"test_input:\\n\", test_input)\n",
        "print(\"test_lables:\\n\", test_lables)"
      ],
      "execution_count": null,
      "outputs": [
        {
          "output_type": "stream",
          "name": "stdout",
          "text": [
            "train_input:\n",
            " [[7 7 3 ... 1 7 7]\n",
            " [7 7 1 ... 7 8 7]\n",
            " [7 7 3 ... 1 7 7]\n",
            " ...\n",
            " [7 7 3 ... 1 7 7]\n",
            " [7 3 7 ... 9 8 7]\n",
            " [7 8 8 ... 1 7 6]]\n",
            "train_lables:\n",
            " [[1 0 0]\n",
            " [1 0 0]\n",
            " [1 0 0]\n",
            " ...\n",
            " [1 0 0]\n",
            " [0 0 1]\n",
            " [1 0 0]]\n",
            "test_input:\n",
            " [[7 7 3 ... 1 7 7]\n",
            " [7 7 1 ... 7 8 7]\n",
            " [7 7 3 ... 1 7 7]\n",
            " ...\n",
            " [7 7 3 ... 1 7 7]\n",
            " [7 3 7 ... 9 8 7]\n",
            " [7 8 8 ... 1 7 6]]\n",
            "test_lables:\n",
            " [[1 0 0]\n",
            " [1 0 0]\n",
            " [1 0 0]\n",
            " ...\n",
            " [1 0 0]\n",
            " [0 0 1]\n",
            " [1 0 0]]\n"
          ]
        }
      ]
    },
    {
      "cell_type": "markdown",
      "metadata": {
        "id": "WSlQ7dUZrhVn"
      },
      "source": [
        "Create Model"
      ]
    },
    {
      "cell_type": "code",
      "metadata": {
        "colab": {
          "base_uri": "https://localhost:8080/"
        },
        "id": "_bWYkUoir9Ns",
        "outputId": "ab2192c7-e4f3-4f19-a8e4-a9d0e524db35"
      },
      "source": [
        "model = Sequential()\n",
        "\n",
        "embedding_layer = Embedding(input_dim = input_size, output_dim = 4, input_length = 8)\n",
        "\n",
        "model.add(embedding_layer)\n",
        "model.add(Flatten())\n",
        "model.add(Dense(num_of_label_categories, activation='softmax'))\n",
        "model.compile(optimizer='rmsprop', loss=\"categorical_crossentropy\", metrics=['accuracy'])\n",
        "\n",
        "print(model.summary())\n",
        "\n"
      ],
      "execution_count": null,
      "outputs": [
        {
          "output_type": "stream",
          "name": "stdout",
          "text": [
            "Model: \"sequential\"\n",
            "_________________________________________________________________\n",
            " Layer (type)                Output Shape              Param #   \n",
            "=================================================================\n",
            " embedding (Embedding)       (None, 8, 4)              40        \n",
            "                                                                 \n",
            " flatten (Flatten)           (None, 32)                0         \n",
            "                                                                 \n",
            " dense (Dense)               (None, 3)                 99        \n",
            "                                                                 \n",
            "=================================================================\n",
            "Total params: 139\n",
            "Trainable params: 139\n",
            "Non-trainable params: 0\n",
            "_________________________________________________________________\n",
            "None\n"
          ]
        }
      ]
    },
    {
      "cell_type": "markdown",
      "metadata": {
        "id": "RdQPoekZ1hID"
      },
      "source": [
        "Fit Model"
      ]
    },
    {
      "cell_type": "code",
      "metadata": {
        "id": "uTHAgRVB1iwy",
        "colab": {
          "base_uri": "https://localhost:8080/"
        },
        "outputId": "91cc5002-ac67-4426-8807-45e1f7310c56"
      },
      "source": [
        "history = model.fit(train_input, train_lables, epochs=100, callbacks=EarlyStopping(monitor='val_loss', mode='min', verbose=1, patience=10), validation_data=(test_input, test_lables))\n",
        "\n"
      ],
      "execution_count": null,
      "outputs": [
        {
          "output_type": "stream",
          "name": "stdout",
          "text": [
            "Epoch 1/100\n",
            "25/25 [==============================] - 1s 11ms/step - loss: 1.0471 - accuracy: 0.6037 - val_loss: 0.9986 - val_accuracy: 0.7125\n",
            "Epoch 2/100\n",
            "25/25 [==============================] - 0s 3ms/step - loss: 0.9527 - accuracy: 0.7113 - val_loss: 0.9018 - val_accuracy: 0.7100\n",
            "Epoch 3/100\n",
            "25/25 [==============================] - 0s 4ms/step - loss: 0.8563 - accuracy: 0.7088 - val_loss: 0.8069 - val_accuracy: 0.7075\n",
            "Epoch 4/100\n",
            "25/25 [==============================] - 0s 4ms/step - loss: 0.7644 - accuracy: 0.7075 - val_loss: 0.7205 - val_accuracy: 0.7138\n",
            "Epoch 5/100\n",
            "25/25 [==============================] - 0s 3ms/step - loss: 0.6868 - accuracy: 0.7175 - val_loss: 0.6517 - val_accuracy: 0.7275\n",
            "Epoch 6/100\n",
            "25/25 [==============================] - 0s 3ms/step - loss: 0.6257 - accuracy: 0.7325 - val_loss: 0.5994 - val_accuracy: 0.7450\n",
            "Epoch 7/100\n",
            "25/25 [==============================] - 0s 3ms/step - loss: 0.5801 - accuracy: 0.7500 - val_loss: 0.5602 - val_accuracy: 0.7663\n",
            "Epoch 8/100\n",
            "25/25 [==============================] - 0s 5ms/step - loss: 0.5455 - accuracy: 0.7738 - val_loss: 0.5292 - val_accuracy: 0.7887\n",
            "Epoch 9/100\n",
            "25/25 [==============================] - 0s 3ms/step - loss: 0.5169 - accuracy: 0.7937 - val_loss: 0.5029 - val_accuracy: 0.7987\n",
            "Epoch 10/100\n",
            "25/25 [==============================] - 0s 5ms/step - loss: 0.4922 - accuracy: 0.8025 - val_loss: 0.4794 - val_accuracy: 0.8050\n",
            "Epoch 11/100\n",
            "25/25 [==============================] - 0s 4ms/step - loss: 0.4701 - accuracy: 0.8125 - val_loss: 0.4586 - val_accuracy: 0.8200\n",
            "Epoch 12/100\n",
            "25/25 [==============================] - 0s 3ms/step - loss: 0.4503 - accuracy: 0.8225 - val_loss: 0.4401 - val_accuracy: 0.8263\n",
            "Epoch 13/100\n",
            "25/25 [==============================] - 0s 3ms/step - loss: 0.4330 - accuracy: 0.8288 - val_loss: 0.4236 - val_accuracy: 0.8275\n",
            "Epoch 14/100\n",
            "25/25 [==============================] - 0s 3ms/step - loss: 0.4174 - accuracy: 0.8238 - val_loss: 0.4090 - val_accuracy: 0.8288\n",
            "Epoch 15/100\n",
            "25/25 [==============================] - 0s 3ms/step - loss: 0.4035 - accuracy: 0.8275 - val_loss: 0.3959 - val_accuracy: 0.8275\n",
            "Epoch 16/100\n",
            "25/25 [==============================] - 0s 4ms/step - loss: 0.3912 - accuracy: 0.8263 - val_loss: 0.3843 - val_accuracy: 0.8250\n",
            "Epoch 17/100\n",
            "25/25 [==============================] - 0s 3ms/step - loss: 0.3804 - accuracy: 0.8238 - val_loss: 0.3744 - val_accuracy: 0.8288\n",
            "Epoch 18/100\n",
            "25/25 [==============================] - 0s 5ms/step - loss: 0.3711 - accuracy: 0.8263 - val_loss: 0.3657 - val_accuracy: 0.8300\n",
            "Epoch 19/100\n",
            "25/25 [==============================] - 0s 5ms/step - loss: 0.3628 - accuracy: 0.8375 - val_loss: 0.3576 - val_accuracy: 0.8413\n",
            "Epoch 20/100\n",
            "25/25 [==============================] - 0s 3ms/step - loss: 0.3550 - accuracy: 0.8413 - val_loss: 0.3502 - val_accuracy: 0.8413\n",
            "Epoch 21/100\n",
            "25/25 [==============================] - 0s 3ms/step - loss: 0.3478 - accuracy: 0.8450 - val_loss: 0.3433 - val_accuracy: 0.8438\n",
            "Epoch 22/100\n",
            "25/25 [==============================] - 0s 3ms/step - loss: 0.3414 - accuracy: 0.8450 - val_loss: 0.3370 - val_accuracy: 0.8500\n",
            "Epoch 23/100\n",
            "25/25 [==============================] - 0s 3ms/step - loss: 0.3353 - accuracy: 0.8512 - val_loss: 0.3314 - val_accuracy: 0.8525\n",
            "Epoch 24/100\n",
            "25/25 [==============================] - 0s 5ms/step - loss: 0.3298 - accuracy: 0.8575 - val_loss: 0.3258 - val_accuracy: 0.8625\n",
            "Epoch 25/100\n",
            "25/25 [==============================] - 0s 4ms/step - loss: 0.3246 - accuracy: 0.8625 - val_loss: 0.3209 - val_accuracy: 0.8637\n",
            "Epoch 26/100\n",
            "25/25 [==============================] - 0s 3ms/step - loss: 0.3199 - accuracy: 0.8637 - val_loss: 0.3164 - val_accuracy: 0.8625\n",
            "Epoch 27/100\n",
            "25/25 [==============================] - 0s 3ms/step - loss: 0.3155 - accuracy: 0.8637 - val_loss: 0.3123 - val_accuracy: 0.8612\n",
            "Epoch 28/100\n",
            "25/25 [==============================] - 0s 4ms/step - loss: 0.3116 - accuracy: 0.8600 - val_loss: 0.3084 - val_accuracy: 0.8625\n",
            "Epoch 29/100\n",
            "25/25 [==============================] - 0s 4ms/step - loss: 0.3078 - accuracy: 0.8637 - val_loss: 0.3047 - val_accuracy: 0.8625\n",
            "Epoch 30/100\n",
            "25/25 [==============================] - 0s 3ms/step - loss: 0.3044 - accuracy: 0.8662 - val_loss: 0.3014 - val_accuracy: 0.8637\n",
            "Epoch 31/100\n",
            "25/25 [==============================] - 0s 3ms/step - loss: 0.3008 - accuracy: 0.8662 - val_loss: 0.2983 - val_accuracy: 0.8650\n",
            "Epoch 32/100\n",
            "25/25 [==============================] - 0s 4ms/step - loss: 0.2980 - accuracy: 0.8637 - val_loss: 0.2954 - val_accuracy: 0.8662\n",
            "Epoch 33/100\n",
            "25/25 [==============================] - 0s 4ms/step - loss: 0.2952 - accuracy: 0.8637 - val_loss: 0.2926 - val_accuracy: 0.8650\n",
            "Epoch 34/100\n",
            "25/25 [==============================] - 0s 5ms/step - loss: 0.2927 - accuracy: 0.8650 - val_loss: 0.2902 - val_accuracy: 0.8687\n",
            "Epoch 35/100\n",
            "25/25 [==============================] - 0s 3ms/step - loss: 0.2903 - accuracy: 0.8687 - val_loss: 0.2879 - val_accuracy: 0.8700\n",
            "Epoch 36/100\n",
            "25/25 [==============================] - 0s 4ms/step - loss: 0.2880 - accuracy: 0.8700 - val_loss: 0.2856 - val_accuracy: 0.8712\n",
            "Epoch 37/100\n",
            "25/25 [==============================] - 0s 4ms/step - loss: 0.2859 - accuracy: 0.8712 - val_loss: 0.2834 - val_accuracy: 0.8725\n",
            "Epoch 38/100\n",
            "25/25 [==============================] - 0s 4ms/step - loss: 0.2839 - accuracy: 0.8700 - val_loss: 0.2816 - val_accuracy: 0.8750\n",
            "Epoch 39/100\n",
            "25/25 [==============================] - 0s 3ms/step - loss: 0.2818 - accuracy: 0.8737 - val_loss: 0.2797 - val_accuracy: 0.8763\n",
            "Epoch 40/100\n",
            "25/25 [==============================] - 0s 3ms/step - loss: 0.2800 - accuracy: 0.8775 - val_loss: 0.2779 - val_accuracy: 0.8763\n",
            "Epoch 41/100\n",
            "25/25 [==============================] - 0s 3ms/step - loss: 0.2784 - accuracy: 0.8763 - val_loss: 0.2762 - val_accuracy: 0.8775\n",
            "Epoch 42/100\n",
            "25/25 [==============================] - 0s 3ms/step - loss: 0.2766 - accuracy: 0.8775 - val_loss: 0.2746 - val_accuracy: 0.8775\n",
            "Epoch 43/100\n",
            "25/25 [==============================] - 0s 4ms/step - loss: 0.2751 - accuracy: 0.8775 - val_loss: 0.2730 - val_accuracy: 0.8788\n",
            "Epoch 44/100\n",
            "25/25 [==============================] - 0s 3ms/step - loss: 0.2737 - accuracy: 0.8775 - val_loss: 0.2716 - val_accuracy: 0.8788\n",
            "Epoch 45/100\n",
            "25/25 [==============================] - 0s 5ms/step - loss: 0.2722 - accuracy: 0.8800 - val_loss: 0.2702 - val_accuracy: 0.8788\n",
            "Epoch 46/100\n",
            "25/25 [==============================] - 0s 3ms/step - loss: 0.2708 - accuracy: 0.8800 - val_loss: 0.2689 - val_accuracy: 0.8800\n",
            "Epoch 47/100\n",
            "25/25 [==============================] - 0s 3ms/step - loss: 0.2695 - accuracy: 0.8800 - val_loss: 0.2677 - val_accuracy: 0.8825\n",
            "Epoch 48/100\n",
            "25/25 [==============================] - 0s 5ms/step - loss: 0.2685 - accuracy: 0.8813 - val_loss: 0.2664 - val_accuracy: 0.8813\n",
            "Epoch 49/100\n",
            "25/25 [==============================] - 0s 4ms/step - loss: 0.2671 - accuracy: 0.8825 - val_loss: 0.2653 - val_accuracy: 0.8800\n",
            "Epoch 50/100\n",
            "25/25 [==============================] - 0s 3ms/step - loss: 0.2658 - accuracy: 0.8800 - val_loss: 0.2641 - val_accuracy: 0.8813\n",
            "Epoch 51/100\n",
            "25/25 [==============================] - 0s 5ms/step - loss: 0.2649 - accuracy: 0.8813 - val_loss: 0.2630 - val_accuracy: 0.8813\n",
            "Epoch 52/100\n",
            "25/25 [==============================] - 0s 3ms/step - loss: 0.2637 - accuracy: 0.8800 - val_loss: 0.2619 - val_accuracy: 0.8825\n",
            "Epoch 53/100\n",
            "25/25 [==============================] - 0s 5ms/step - loss: 0.2626 - accuracy: 0.8825 - val_loss: 0.2609 - val_accuracy: 0.8813\n",
            "Epoch 54/100\n",
            "25/25 [==============================] - 0s 5ms/step - loss: 0.2616 - accuracy: 0.8813 - val_loss: 0.2598 - val_accuracy: 0.8838\n",
            "Epoch 55/100\n",
            "25/25 [==============================] - 0s 4ms/step - loss: 0.2607 - accuracy: 0.8850 - val_loss: 0.2589 - val_accuracy: 0.8850\n",
            "Epoch 56/100\n",
            "25/25 [==============================] - 0s 5ms/step - loss: 0.2597 - accuracy: 0.8850 - val_loss: 0.2579 - val_accuracy: 0.8850\n",
            "Epoch 57/100\n",
            "25/25 [==============================] - 0s 4ms/step - loss: 0.2588 - accuracy: 0.8850 - val_loss: 0.2570 - val_accuracy: 0.8863\n",
            "Epoch 58/100\n",
            "25/25 [==============================] - 0s 5ms/step - loss: 0.2577 - accuracy: 0.8875 - val_loss: 0.2561 - val_accuracy: 0.8863\n",
            "Epoch 59/100\n",
            "25/25 [==============================] - 0s 3ms/step - loss: 0.2570 - accuracy: 0.8850 - val_loss: 0.2552 - val_accuracy: 0.8863\n",
            "Epoch 60/100\n",
            "25/25 [==============================] - 0s 3ms/step - loss: 0.2564 - accuracy: 0.8863 - val_loss: 0.2544 - val_accuracy: 0.8863\n",
            "Epoch 61/100\n",
            "25/25 [==============================] - 0s 5ms/step - loss: 0.2553 - accuracy: 0.8888 - val_loss: 0.2536 - val_accuracy: 0.8888\n",
            "Epoch 62/100\n",
            "25/25 [==============================] - 0s 3ms/step - loss: 0.2544 - accuracy: 0.8888 - val_loss: 0.2528 - val_accuracy: 0.8863\n",
            "Epoch 63/100\n",
            "25/25 [==============================] - 0s 3ms/step - loss: 0.2536 - accuracy: 0.8875 - val_loss: 0.2520 - val_accuracy: 0.8888\n",
            "Epoch 64/100\n",
            "25/25 [==============================] - 0s 3ms/step - loss: 0.2530 - accuracy: 0.8863 - val_loss: 0.2513 - val_accuracy: 0.8875\n",
            "Epoch 65/100\n",
            "25/25 [==============================] - 0s 5ms/step - loss: 0.2523 - accuracy: 0.8875 - val_loss: 0.2506 - val_accuracy: 0.8913\n",
            "Epoch 66/100\n",
            "25/25 [==============================] - 0s 4ms/step - loss: 0.2516 - accuracy: 0.8875 - val_loss: 0.2499 - val_accuracy: 0.8913\n",
            "Epoch 67/100\n",
            "25/25 [==============================] - 0s 4ms/step - loss: 0.2510 - accuracy: 0.8913 - val_loss: 0.2492 - val_accuracy: 0.8913\n",
            "Epoch 68/100\n",
            "25/25 [==============================] - 0s 3ms/step - loss: 0.2501 - accuracy: 0.8913 - val_loss: 0.2486 - val_accuracy: 0.8913\n",
            "Epoch 69/100\n",
            "25/25 [==============================] - 0s 5ms/step - loss: 0.2497 - accuracy: 0.8925 - val_loss: 0.2480 - val_accuracy: 0.8925\n",
            "Epoch 70/100\n",
            "25/25 [==============================] - 0s 5ms/step - loss: 0.2490 - accuracy: 0.8900 - val_loss: 0.2473 - val_accuracy: 0.8925\n",
            "Epoch 71/100\n",
            "25/25 [==============================] - 0s 4ms/step - loss: 0.2483 - accuracy: 0.8925 - val_loss: 0.2466 - val_accuracy: 0.8913\n",
            "Epoch 72/100\n",
            "25/25 [==============================] - 0s 4ms/step - loss: 0.2475 - accuracy: 0.8900 - val_loss: 0.2459 - val_accuracy: 0.8925\n",
            "Epoch 73/100\n",
            "25/25 [==============================] - 0s 3ms/step - loss: 0.2471 - accuracy: 0.8938 - val_loss: 0.2453 - val_accuracy: 0.8925\n",
            "Epoch 74/100\n",
            "25/25 [==============================] - 0s 5ms/step - loss: 0.2463 - accuracy: 0.8913 - val_loss: 0.2447 - val_accuracy: 0.8938\n",
            "Epoch 75/100\n",
            "25/25 [==============================] - 0s 3ms/step - loss: 0.2458 - accuracy: 0.8925 - val_loss: 0.2441 - val_accuracy: 0.8938\n",
            "Epoch 76/100\n",
            "25/25 [==============================] - 0s 5ms/step - loss: 0.2453 - accuracy: 0.8950 - val_loss: 0.2435 - val_accuracy: 0.8938\n",
            "Epoch 77/100\n",
            "25/25 [==============================] - 0s 3ms/step - loss: 0.2446 - accuracy: 0.8925 - val_loss: 0.2430 - val_accuracy: 0.8938\n",
            "Epoch 78/100\n",
            "25/25 [==============================] - 0s 3ms/step - loss: 0.2440 - accuracy: 0.8925 - val_loss: 0.2424 - val_accuracy: 0.8938\n",
            "Epoch 79/100\n",
            "25/25 [==============================] - 0s 5ms/step - loss: 0.2437 - accuracy: 0.8925 - val_loss: 0.2419 - val_accuracy: 0.8938\n",
            "Epoch 80/100\n",
            "25/25 [==============================] - 0s 4ms/step - loss: 0.2430 - accuracy: 0.8963 - val_loss: 0.2414 - val_accuracy: 0.8950\n",
            "Epoch 81/100\n",
            "25/25 [==============================] - 0s 5ms/step - loss: 0.2424 - accuracy: 0.8950 - val_loss: 0.2408 - val_accuracy: 0.8963\n",
            "Epoch 82/100\n",
            "25/25 [==============================] - 0s 4ms/step - loss: 0.2419 - accuracy: 0.8975 - val_loss: 0.2403 - val_accuracy: 0.8988\n",
            "Epoch 83/100\n",
            "25/25 [==============================] - 0s 3ms/step - loss: 0.2412 - accuracy: 0.8975 - val_loss: 0.2397 - val_accuracy: 0.8988\n",
            "Epoch 84/100\n",
            "25/25 [==============================] - 0s 3ms/step - loss: 0.2408 - accuracy: 0.8988 - val_loss: 0.2392 - val_accuracy: 0.9000\n",
            "Epoch 85/100\n",
            "25/25 [==============================] - 0s 5ms/step - loss: 0.2403 - accuracy: 0.8988 - val_loss: 0.2387 - val_accuracy: 0.9000\n",
            "Epoch 86/100\n",
            "25/25 [==============================] - 0s 5ms/step - loss: 0.2397 - accuracy: 0.9000 - val_loss: 0.2382 - val_accuracy: 0.9000\n",
            "Epoch 87/100\n",
            "25/25 [==============================] - 0s 3ms/step - loss: 0.2393 - accuracy: 0.8988 - val_loss: 0.2377 - val_accuracy: 0.9000\n",
            "Epoch 88/100\n",
            "25/25 [==============================] - 0s 5ms/step - loss: 0.2390 - accuracy: 0.8988 - val_loss: 0.2372 - val_accuracy: 0.9000\n",
            "Epoch 89/100\n",
            "25/25 [==============================] - 0s 5ms/step - loss: 0.2384 - accuracy: 0.9000 - val_loss: 0.2368 - val_accuracy: 0.9000\n",
            "Epoch 90/100\n",
            "25/25 [==============================] - 0s 5ms/step - loss: 0.2378 - accuracy: 0.8988 - val_loss: 0.2363 - val_accuracy: 0.9013\n",
            "Epoch 91/100\n",
            "25/25 [==============================] - 0s 3ms/step - loss: 0.2375 - accuracy: 0.8988 - val_loss: 0.2358 - val_accuracy: 0.9013\n",
            "Epoch 92/100\n",
            "25/25 [==============================] - 0s 3ms/step - loss: 0.2368 - accuracy: 0.9000 - val_loss: 0.2353 - val_accuracy: 0.9013\n",
            "Epoch 93/100\n",
            "25/25 [==============================] - 0s 5ms/step - loss: 0.2365 - accuracy: 0.9025 - val_loss: 0.2349 - val_accuracy: 0.9013\n",
            "Epoch 94/100\n",
            "25/25 [==============================] - 0s 5ms/step - loss: 0.2360 - accuracy: 0.9000 - val_loss: 0.2344 - val_accuracy: 0.9013\n",
            "Epoch 95/100\n",
            "25/25 [==============================] - 0s 3ms/step - loss: 0.2356 - accuracy: 0.9013 - val_loss: 0.2339 - val_accuracy: 0.9013\n",
            "Epoch 96/100\n",
            "25/25 [==============================] - 0s 3ms/step - loss: 0.2350 - accuracy: 0.9000 - val_loss: 0.2335 - val_accuracy: 0.9013\n",
            "Epoch 97/100\n",
            "25/25 [==============================] - 0s 4ms/step - loss: 0.2346 - accuracy: 0.9013 - val_loss: 0.2330 - val_accuracy: 0.9013\n",
            "Epoch 98/100\n",
            "25/25 [==============================] - 0s 5ms/step - loss: 0.2341 - accuracy: 0.9013 - val_loss: 0.2326 - val_accuracy: 0.9013\n",
            "Epoch 99/100\n",
            "25/25 [==============================] - 0s 3ms/step - loss: 0.2339 - accuracy: 0.9025 - val_loss: 0.2321 - val_accuracy: 0.9013\n",
            "Epoch 100/100\n",
            "25/25 [==============================] - 0s 3ms/step - loss: 0.2332 - accuracy: 0.9013 - val_loss: 0.2317 - val_accuracy: 0.9038\n"
          ]
        }
      ]
    },
    {
      "cell_type": "markdown",
      "metadata": {
        "id": "xj2qDzwxFu75"
      },
      "source": [
        "View Embedding Weights"
      ]
    },
    {
      "cell_type": "code",
      "metadata": {
        "colab": {
          "base_uri": "https://localhost:8080/"
        },
        "id": "8kZKoG3vFvKN",
        "outputId": "826dae18-bc3f-4f6a-a925-1b57a387b2d8"
      },
      "source": [
        "print(embedding_layer.get_weights()[0].shape)\n",
        "print(embedding_layer.get_weights())"
      ],
      "execution_count": null,
      "outputs": [
        {
          "output_type": "stream",
          "name": "stdout",
          "text": [
            "(10, 4)\n",
            "[array([[-0.01022506, -0.0419894 , -0.01581949,  0.04806255],\n",
            "       [ 0.42454955,  1.0182464 ,  0.42589897, -0.84984094],\n",
            "       [ 0.3522132 , -0.07865026, -0.37403134, -0.09409666],\n",
            "       [-0.4920287 , -0.3205787 ,  0.459401  ,  0.49575144],\n",
            "       [ 0.2841039 ,  0.1217183 ,  0.6456001 ,  0.8161882 ],\n",
            "       [-0.02087692,  0.02688533, -0.0131892 , -0.02350608],\n",
            "       [ 0.4350809 ,  1.0618225 ,  0.54812664,  0.37129068],\n",
            "       [-0.33252123, -0.2694125 , -0.3218705 , -0.42411947],\n",
            "       [ 0.4189799 , -0.1802054 , -0.5618987 ,  0.2614665 ],\n",
            "       [ 0.62814134,  0.21389394,  0.1294047 ,  0.16054049]],\n",
            "      dtype=float32)]\n"
          ]
        }
      ]
    },
    {
      "cell_type": "markdown",
      "metadata": {
        "id": "vKwfaTweGPll"
      },
      "source": [
        "Evaluate Model"
      ]
    },
    {
      "cell_type": "code",
      "metadata": {
        "colab": {
          "base_uri": "https://localhost:8080/",
          "height": 347
        },
        "id": "GzqjmmOpGRDZ",
        "outputId": "d07e84f7-1889-409e-e5be-d154ccd7f43b"
      },
      "source": [
        "loss, accuracy = model.evaluate(test_input, test_lables)\n",
        "print(\"loss: \", loss)\n",
        "print(\"accuracy: \", accuracy)\n",
        "\n",
        "\n",
        "import matplotlib.pyplot as plt\n",
        "import matplotlib.image as mpimg\n",
        "\n",
        "#plot the training and validation accuracy and loss at each epoch - taken from https://github.com/bnsreenu/python_for_microscopists/blob/master/143-multiclass_cifar.py\n",
        "loss = history.history['loss']\n",
        "val_loss = history.history['val_loss']\n",
        "epochs = range(1, len(loss) + 1)\n",
        "plt.plot(epochs, loss, 'y', label='Training loss')\n",
        "plt.plot(epochs, val_loss, 'r', label='Validation loss')\n",
        "plt.title('training and validation loss')\n",
        "plt.xlabel('Epochs')\n",
        "plt.ylabel('Loss')\n",
        "plt.legend()\n",
        "plt.show()"
      ],
      "execution_count": null,
      "outputs": [
        {
          "output_type": "stream",
          "name": "stdout",
          "text": [
            "25/25 [==============================] - 0s 1ms/step - loss: 0.2317 - accuracy: 0.9038\n",
            "loss:  0.23167908191680908\n",
            "accuracy:  0.9037500023841858\n"
          ]
        },
        {
          "output_type": "display_data",
          "data": {
            "image/png": "[encoded data removed]",
            "text/plain": [
              "<Figure size 432x288 with 1 Axes>"
            ]
          },
          "metadata": {
            "needs_background": "light"
          }
        }
      ]
    }
  ]
}